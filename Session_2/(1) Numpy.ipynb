{
 "cells": [
  {
   "cell_type": "markdown",
   "metadata": {
    "id": "S9LxCd_Ciram"
   },
   "source": [
    "# NumPy\n",
    "What is NumPy? <br>\n",
    "A python library used to deal with large multidimensional arrays. <br>\n"
   ]
  },
  {
   "cell_type": "code",
   "execution_count": 4,
   "metadata": {},
   "outputs": [],
   "source": [
    "import numpy as np"
   ]
  },
  {
   "cell_type": "code",
   "execution_count": 5,
   "metadata": {
    "id": "z1cVCp6Om8ms"
   },
   "outputs": [],
   "source": [
    "#Code along with us\n",
    "#x=np.array([9,23,32,47,53])\n",
    "#print(x, type(x))"
   ]
  },
  {
   "cell_type": "markdown",
   "metadata": {
    "id": "PRrqtg4fkpRo"
   },
   "source": [
    "Bro, we already have Lists and Tuples right? Why NumPy? <br>\n",
    "Let's compare"
   ]
  },
  {
   "cell_type": "code",
   "execution_count": 6,
   "metadata": {
    "id": "1nYkT8ADd4pa"
   },
   "outputs": [],
   "source": [
    "N = 100000"
   ]
  },
  {
   "cell_type": "markdown",
   "metadata": {
    "id": "wTamN8S5lSBk"
   },
   "source": [
    "Let's create a list with N entries containing integers from 0 to N-1 and multiply it element-wise with itself.<br> %%time will time the operation."
   ]
  },
  {
   "cell_type": "code",
   "execution_count": 7,
   "metadata": {
    "colab": {
     "base_uri": "https://localhost:8080/"
    },
    "id": "LNLzAdSrk0am",
    "outputId": "6d2f272f-c09c-4cc6-c6ae-e9456fa802d6"
   },
   "outputs": [
    {
     "name": "stdout",
     "output_type": "stream",
     "text": [
      "CPU times: user 10.7 ms, sys: 860 µs, total: 11.6 ms\n",
      "Wall time: 11.2 ms\n"
     ]
    }
   ],
   "source": [
    "%%time\n",
    "list_ = list(range(N))\n",
    "for i in range(N):\n",
    "    list_[i] = list_[i] * list_[i]"
   ]
  },
  {
   "cell_type": "markdown",
   "metadata": {
    "id": "6AHFz9l7mKr7"
   },
   "source": [
    "Now, let's replicate this process using NumPy. Observe the simplicity in syntax and the latency"
   ]
  },
  {
   "cell_type": "code",
   "execution_count": 8,
   "metadata": {
    "colab": {
     "base_uri": "https://localhost:8080/"
    },
    "id": "_3jeUsRtmX_L",
    "outputId": "801d78c3-4cf0-4316-dd69-91e4188d88d1"
   },
   "outputs": [
    {
     "name": "stdout",
     "output_type": "stream",
     "text": [
      "CPU times: user 414 µs, sys: 557 µs, total: 971 µs\n",
      "Wall time: 524 µs\n"
     ]
    }
   ],
   "source": [
    "%%time\n",
    "arr = np.arange(N)\n",
    "arr = arr * arr"
   ]
  },
  {
   "cell_type": "markdown",
   "metadata": {
    "id": "1t2xPoV9Nj9x"
   },
   "source": [
    "## Creating NumPy arrays"
   ]
  },
  {
   "cell_type": "code",
   "execution_count": 9,
   "metadata": {
    "colab": {
     "base_uri": "https://localhost:8080/"
    },
    "id": "O1PvcfTJN1qi",
    "outputId": "2449773c-12d0-4a49-ccd7-3ece6eb5a8f3"
   },
   "outputs": [
    {
     "name": "stdout",
     "output_type": "stream",
     "text": [
      "int64\n",
      "1\n",
      "(12,)\n",
      "12\n"
     ]
    }
   ],
   "source": [
    "# Creating an array\n",
    "arr = np.arange(12)\n",
    "# Datatype of entries in np array\n",
    "print(arr.dtype)\n",
    "# Dimension of np array\n",
    "print(arr.ndim)\n",
    "# Shape of array\n",
    "print(arr.shape)\n",
    "# Size of array\n",
    "print(arr.size)"
   ]
  },
  {
   "cell_type": "markdown",
   "metadata": {
    "id": "a9wtsEgEPQtA"
   },
   "source": [
    "Let's create a 2 Dimensional array"
   ]
  },
  {
   "cell_type": "code",
   "execution_count": 10,
   "metadata": {
    "ExecuteTime": {
     "end_time": "2021-02-11T16:36:56.997797Z",
     "start_time": "2021-02-11T16:36:56.987202Z"
    },
    "id": "lrIZvvGYPc3b"
   },
   "outputs": [
    {
     "data": {
      "text/plain": [
       "array([[ 0.51273553, -0.43412329,  1.24507346],\n",
       "       [ 0.38858017, -0.88240967, -0.25646585]])"
      ]
     },
     "execution_count": 10,
     "metadata": {},
     "output_type": "execute_result"
    }
   ],
   "source": [
    "# Code along with us\n",
    "arr = np.random.randn(2,3)\n",
    "arr"
   ]
  },
  {
   "cell_type": "markdown",
   "metadata": {
    "id": "I5UsVrfaoRiS"
   },
   "source": [
    "## Understanding dimension and shape of an array\n",
    "Try making a 3 Dimensional array. How about a 4 dimensional array? It's getting more complicated? <br>\n",
    "No worries, we have NumPy functions to create some basic arrays of required dimensions"
   ]
  },
  {
   "cell_type": "code",
   "execution_count": 11,
   "metadata": {
    "colab": {
     "base_uri": "https://localhost:8080/"
    },
    "id": "A7TXVq-JpGjk",
    "outputId": "87809c28-e2f7-47f5-bb0e-5c8381fa6357"
   },
   "outputs": [
    {
     "data": {
      "text/plain": [
       "array([[[1., 1., 1., 1.],\n",
       "        [1., 1., 1., 1.],\n",
       "        [1., 1., 1., 1.]],\n",
       "\n",
       "       [[1., 1., 1., 1.],\n",
       "        [1., 1., 1., 1.],\n",
       "        [1., 1., 1., 1.]]])"
      ]
     },
     "execution_count": 11,
     "metadata": {},
     "output_type": "execute_result"
    }
   ],
   "source": [
    "# Create a 2x3x4 array with ones\n",
    "np.ones((2,3,4))"
   ]
  },
  {
   "cell_type": "code",
   "execution_count": 12,
   "metadata": {
    "ExecuteTime": {
     "end_time": "2021-02-11T16:37:49.486650Z",
     "start_time": "2021-02-11T16:37:49.476420Z"
    },
    "colab": {
     "base_uri": "https://localhost:8080/",
     "height": 132
    },
    "id": "XhzrGuFyped2",
    "outputId": "1c6dc7e3-e997-46c1-a1f0-08f70fa2789c"
   },
   "outputs": [
    {
     "data": {
      "text/plain": [
       "array([[0., 0., 0.],\n",
       "       [0., 0., 0.],\n",
       "       [0., 0., 0.],\n",
       "       [0., 0., 0.],\n",
       "       [0., 0., 0.],\n",
       "       [0., 0., 0.],\n",
       "       [0., 0., 0.],\n",
       "       [0., 0., 0.],\n",
       "       [0., 0., 0.],\n",
       "       [0., 0., 0.]])"
      ]
     },
     "execution_count": 12,
     "metadata": {},
     "output_type": "execute_result"
    }
   ],
   "source": [
    "# Create a 10x3 array with zeros\n",
    "#Fill the code\n",
    "arr2 = np.zeros((10,3))\n",
    "arr2"
   ]
  },
  {
   "cell_type": "markdown",
   "metadata": {
    "id": "bv1h71nhUbre"
   },
   "source": [
    "Let's first define a **function** that gives all info about nature of array"
   ]
  },
  {
   "cell_type": "code",
   "execution_count": 13,
   "metadata": {
    "ExecuteTime": {
     "end_time": "2021-02-11T16:37:51.138564Z",
     "start_time": "2021-02-11T16:37:51.131526Z"
    },
    "id": "GeEEzhlrnieZ"
   },
   "outputs": [],
   "source": [
    "# Function code\n",
    "def array_info(arr):\n",
    "    print(\"dtype is\",arr.dtype)\n",
    "    print(\"shape is\",arr.shape)\n",
    "    print(\"Dimension is\",arr.ndim)\n",
    "    print(\"Size is\",arr.size,\"\\n\")  #\\n to separate the text in next function call with a new line char\n"
   ]
  },
  {
   "cell_type": "code",
   "execution_count": 14,
   "metadata": {
    "ExecuteTime": {
     "end_time": "2021-02-11T16:37:51.802366Z",
     "start_time": "2021-02-11T16:37:51.791272Z"
    },
    "colab": {
     "base_uri": "https://localhost:8080/",
     "height": 185
    },
    "id": "-or8aH6jUmqv",
    "outputId": "66e456ce-f073-447e-86f6-9ab66b0980af"
   },
   "outputs": [
    {
     "name": "stdout",
     "output_type": "stream",
     "text": [
      "dtype is float64\n",
      "shape is (10, 3)\n",
      "Dimension is 2\n",
      "Size is 30 \n",
      "\n"
     ]
    }
   ],
   "source": [
    "# Calling the function\n",
    "array_info(arr2)"
   ]
  },
  {
   "cell_type": "markdown",
   "metadata": {
    "id": "sbRoILevSSOz"
   },
   "source": [
    "Observe the difference between the following arrays"
   ]
  },
  {
   "cell_type": "code",
   "execution_count": 15,
   "metadata": {
    "ExecuteTime": {
     "end_time": "2021-02-11T16:37:56.508873Z",
     "start_time": "2021-02-11T16:37:56.494501Z"
    },
    "colab": {
     "base_uri": "https://localhost:8080/"
    },
    "id": "KhlJlUbuSQal",
    "outputId": "a52d0909-a4ea-4eec-bba8-9402944d3ea3"
   },
   "outputs": [
    {
     "name": "stdout",
     "output_type": "stream",
     "text": [
      "dtype is float64\n",
      "shape is (6,)\n",
      "Dimension is 1\n",
      "Size is 6 \n",
      "\n",
      "dtype is float64\n",
      "shape is (6, 1)\n",
      "Dimension is 2\n",
      "Size is 6 \n",
      "\n",
      "dtype is float64\n",
      "shape is (2, 3)\n",
      "Dimension is 2\n",
      "Size is 6 \n",
      "\n"
     ]
    }
   ],
   "source": [
    "a = np.ones((6))\n",
    "b = np.ones((6,1))\n",
    "c = np.ones((2,3))\n",
    "array_info(a)\n",
    "array_info(b)\n",
    "array_info(c)"
   ]
  },
  {
   "cell_type": "markdown",
   "metadata": {
    "id": "3WokiWijXZeg"
   },
   "source": [
    "Try creating different sizes of arrays, play around, get the feel"
   ]
  },
  {
   "cell_type": "markdown",
   "metadata": {
    "id": "p8HoIHXU1BkZ"
   },
   "source": [
    "## Reshaping and Flattening"
   ]
  },
  {
   "cell_type": "code",
   "execution_count": 16,
   "metadata": {
    "ExecuteTime": {
     "end_time": "2021-02-11T16:38:13.823498Z",
     "start_time": "2021-02-11T16:38:13.813820Z"
    },
    "id": "BiBFZNcL1K3o"
   },
   "outputs": [
    {
     "data": {
      "text/plain": [
       "array([[1., 1.],\n",
       "       [1., 1.],\n",
       "       [1., 1.]])"
      ]
     },
     "execution_count": 16,
     "metadata": {},
     "output_type": "execute_result"
    }
   ],
   "source": [
    "a.reshape(3,2)"
   ]
  },
  {
   "cell_type": "markdown",
   "metadata": {
    "id": "G5BenCeo1XqG"
   },
   "source": [
    "Try converting arr2 to a one dimensional array without changing the elements using np.reshape()"
   ]
  },
  {
   "cell_type": "code",
   "execution_count": 17,
   "metadata": {
    "ExecuteTime": {
     "end_time": "2021-02-11T16:38:39.149648Z",
     "start_time": "2021-02-11T16:38:39.140397Z"
    },
    "id": "oNBF6bpV1o0t"
   },
   "outputs": [
    {
     "data": {
      "text/plain": [
       "array([1., 1., 1., 1., 1., 1.])"
      ]
     },
     "execution_count": 17,
     "metadata": {},
     "output_type": "execute_result"
    }
   ],
   "source": [
    "# Code with us\n",
    "c.reshape((6))"
   ]
  },
  {
   "cell_type": "markdown",
   "metadata": {
    "id": "fCZw29aYqPnU"
   },
   "source": [
    "## Random normal and random uniform in Numpy\n",
    "Ever heard of normal and uniform distribution? <br>\n",
    "*   Normal distribution is a probability distribution of a random variable, which has bell shaped curve<br> \n",
    "*   In uniform distribution, probability of choosing any number at random is equally likely. <br>\n",
    "*   These probability distributions are extremely useful in a broad spectrum of engineering disciplines. We will look more about this in later part of the session"
   ]
  },
  {
   "cell_type": "code",
   "execution_count": 18,
   "metadata": {
    "ExecuteTime": {
     "end_time": "2021-02-11T16:38:50.456412Z",
     "start_time": "2021-02-11T16:38:50.452001Z"
    },
    "id": "m2iymA81rHdI"
   },
   "outputs": [
    {
     "data": {
      "text/plain": [
       "array([[ 1.53667914, -0.5438378 ,  1.40583565],\n",
       "       [-0.03787313,  0.37305652, -1.22114828]])"
      ]
     },
     "execution_count": 18,
     "metadata": {},
     "output_type": "execute_result"
    }
   ],
   "source": [
    "# Creating 2x3 array whose elements are randomly sampled from a normal distribution with mean =0 and std = 1\n",
    "np.random.randn(2,3)"
   ]
  },
  {
   "cell_type": "code",
   "execution_count": 19,
   "metadata": {
    "ExecuteTime": {
     "end_time": "2021-02-11T16:38:51.755201Z",
     "start_time": "2021-02-11T16:38:51.155719Z"
    },
    "id": "sjVwk8gzrrKD"
   },
   "outputs": [
    {
     "data": {
      "text/plain": [
       "array([[0.31447763, 0.92131061, 0.21933918],\n",
       "       [0.50535635, 0.46860722, 0.31327651]])"
      ]
     },
     "execution_count": 19,
     "metadata": {},
     "output_type": "execute_result"
    }
   ],
   "source": [
    "# Creating 2x3 array whose elements are randomly sampled from a uniform distribution of [0,1)\n",
    "np.random.rand(2,3)"
   ]
  },
  {
   "cell_type": "markdown",
   "metadata": {
    "id": "6Z5QnHGBsJXp"
   },
   "source": [
    "np.random.randint samples only integers, try creating one"
   ]
  },
  {
   "cell_type": "code",
   "execution_count": 20,
   "metadata": {
    "ExecuteTime": {
     "end_time": "2021-02-11T16:38:53.825214Z",
     "start_time": "2021-02-11T16:38:53.818792Z"
    },
    "id": "CWXgtAa1sYd6"
   },
   "outputs": [
    {
     "name": "stdout",
     "output_type": "stream",
     "text": [
      "\u001b[0;31mDocstring:\u001b[0m\n",
      "randint(low, high=None, size=None, dtype=int)\n",
      "\n",
      "Return random integers from `low` (inclusive) to `high` (exclusive).\n",
      "\n",
      "Return random integers from the \"discrete uniform\" distribution of\n",
      "the specified dtype in the \"half-open\" interval [`low`, `high`). If\n",
      "`high` is None (the default), then results are from [0, `low`).\n",
      "\n",
      ".. note::\n",
      "    New code should use the ``integers`` method of a ``default_rng()``\n",
      "    instance instead; please see the :ref:`random-quick-start`.\n",
      "\n",
      "Parameters\n",
      "----------\n",
      "low : int or array-like of ints\n",
      "    Lowest (signed) integers to be drawn from the distribution (unless\n",
      "    ``high=None``, in which case this parameter is one above the\n",
      "    *highest* such integer).\n",
      "high : int or array-like of ints, optional\n",
      "    If provided, one above the largest (signed) integer to be drawn\n",
      "    from the distribution (see above for behavior if ``high=None``).\n",
      "    If array-like, must contain integer values\n",
      "size : int or tuple of ints, optional\n",
      "    Output shape.  If the given shape is, e.g., ``(m, n, k)``, then\n",
      "    ``m * n * k`` samples are drawn.  Default is None, in which case a\n",
      "    single value is returned.\n",
      "dtype : dtype, optional\n",
      "    Desired dtype of the result. Byteorder must be native.\n",
      "    The default value is int.\n",
      "\n",
      "    .. versionadded:: 1.11.0\n",
      "\n",
      "Returns\n",
      "-------\n",
      "out : int or ndarray of ints\n",
      "    `size`-shaped array of random integers from the appropriate\n",
      "    distribution, or a single such random int if `size` not provided.\n",
      "\n",
      "See Also\n",
      "--------\n",
      "random_integers : similar to `randint`, only for the closed\n",
      "    interval [`low`, `high`], and 1 is the lowest value if `high` is\n",
      "    omitted.\n",
      "Generator.integers: which should be used for new code.\n",
      "\n",
      "Examples\n",
      "--------\n",
      ">>> np.random.randint(2, size=10)\n",
      "array([1, 0, 0, 0, 1, 1, 0, 0, 1, 0]) # random\n",
      ">>> np.random.randint(1, size=10)\n",
      "array([0, 0, 0, 0, 0, 0, 0, 0, 0, 0])\n",
      "\n",
      "Generate a 2 x 4 array of ints between 0 and 4, inclusive:\n",
      "\n",
      ">>> np.random.randint(5, size=(2, 4))\n",
      "array([[4, 0, 2, 1], # random\n",
      "       [3, 2, 2, 0]])\n",
      "\n",
      "Generate a 1 x 3 array with 3 different upper bounds\n",
      "\n",
      ">>> np.random.randint(1, [3, 5, 10])\n",
      "array([2, 2, 9]) # random\n",
      "\n",
      "Generate a 1 by 3 array with 3 different lower bounds\n",
      "\n",
      ">>> np.random.randint([1, 5, 7], 10)\n",
      "array([9, 8, 7]) # random\n",
      "\n",
      "Generate a 2 by 4 array using broadcasting with dtype of uint8\n",
      "\n",
      ">>> np.random.randint([1, 3, 5, 7], [[10], [20]], dtype=np.uint8)\n",
      "array([[ 8,  6,  9,  7], # random\n",
      "       [ 1, 16,  9, 12]], dtype=uint8)\n",
      "\u001b[0;31mType:\u001b[0m      builtin_function_or_method\n"
     ]
    }
   ],
   "source": [
    "np.random.randint?"
   ]
  },
  {
   "cell_type": "markdown",
   "metadata": {
    "id": "qrv-gNc8sobp"
   },
   "source": [
    "## Other Data types in NumPy array"
   ]
  },
  {
   "cell_type": "code",
   "execution_count": 21,
   "metadata": {
    "ExecuteTime": {
     "end_time": "2021-02-11T16:39:04.203472Z",
     "start_time": "2021-02-11T16:39:04.197697Z"
    },
    "id": "ryrrAqYUtsvI"
   },
   "outputs": [
    {
     "name": "stdout",
     "output_type": "stream",
     "text": [
      "[ True False  True  True] <class 'numpy.ndarray'>\n"
     ]
    }
   ],
   "source": [
    "# Create an array with Boolean entries\n",
    "arr_bool = np.array([True, False, True, True])\n",
    "print(arr_bool, type(arr_bool))\n"
   ]
  },
  {
   "cell_type": "code",
   "execution_count": 22,
   "metadata": {
    "ExecuteTime": {
     "end_time": "2021-02-11T16:39:04.821285Z",
     "start_time": "2021-02-11T16:39:04.815557Z"
    },
    "id": "2fulEFaUuBZd"
   },
   "outputs": [],
   "source": [
    "# Create an array with str type elements\n",
    "arr_str = np.array(['1.4','3.14','6.314'])\n"
   ]
  },
  {
   "cell_type": "markdown",
   "metadata": {
    "id": "0DRn05kmu1yk"
   },
   "source": [
    "Can I use alphabetical characters as elements of NumPy array?"
   ]
  },
  {
   "cell_type": "markdown",
   "metadata": {
    "id": "Kv0v9dwzvEef"
   },
   "source": [
    "## NumPy Operations"
   ]
  },
  {
   "cell_type": "code",
   "execution_count": 23,
   "metadata": {
    "ExecuteTime": {
     "end_time": "2021-02-11T16:39:31.369690Z",
     "start_time": "2021-02-11T16:39:31.363274Z"
    },
    "id": "Bj-H7M9-pgX5"
   },
   "outputs": [
    {
     "name": "stdout",
     "output_type": "stream",
     "text": [
      "[[5 2 4]\n",
      " [8 6 3]]\n",
      "[[6 4 3]\n",
      " [4 1 3]]\n"
     ]
    }
   ],
   "source": [
    "arr1 = np.random.randint(0,10,(2,3))\n",
    "arr2 = np.random.randint(0,10,(2,3))\n",
    "print(arr1)\n",
    "print(arr2)"
   ]
  },
  {
   "cell_type": "code",
   "execution_count": 24,
   "metadata": {
    "ExecuteTime": {
     "end_time": "2021-02-11T16:39:35.429286Z",
     "start_time": "2021-02-11T16:39:35.418743Z"
    },
    "id": "LKQNS_sqvdC7"
   },
   "outputs": [
    {
     "name": "stdout",
     "output_type": "stream",
     "text": [
      "[[11  6  7]\n",
      " [12  7  6]]\n",
      "[[-1 -2  1]\n",
      " [ 4  5  0]]\n",
      "[[30  8 12]\n",
      " [32  6  9]]\n",
      "[[0.83333333 0.5        1.33333333]\n",
      " [2.         6.         1.        ]]\n"
     ]
    }
   ],
   "source": [
    "# Addition\n",
    "print(arr1+arr2)\n",
    "# Subtraction\n",
    "print(arr1-arr2)\n",
    "# Multiplication\n",
    "print(arr1*arr2)    #Notice that it multiplies element-wise\n",
    "# Division (Element-wise)\n",
    "print(arr1/arr2)"
   ]
  },
  {
   "cell_type": "markdown",
   "metadata": {
    "id": "dwktvJRRw8kc"
   },
   "source": [
    "Let's look at element-wise division more detailly"
   ]
  },
  {
   "cell_type": "code",
   "execution_count": 25,
   "metadata": {
    "ExecuteTime": {
     "end_time": "2021-02-11T16:39:37.498462Z",
     "start_time": "2021-02-11T16:39:37.491335Z"
    },
    "id": "M2qZ16pBwRQv"
   },
   "outputs": [
    {
     "name": "stderr",
     "output_type": "stream",
     "text": [
      "/var/folders/54/ccfr7ph1425cvxjxllgbr1mw0000gn/T/ipykernel_1709/574386808.py:2: RuntimeWarning: divide by zero encountered in true_divide\n",
      "  arr_inv = 1/arr\n"
     ]
    }
   ],
   "source": [
    "arr = np.zeros((2,3))\n",
    "arr_inv = 1/arr"
   ]
  },
  {
   "cell_type": "code",
   "execution_count": 26,
   "metadata": {
    "ExecuteTime": {
     "end_time": "2021-02-11T16:39:38.205749Z",
     "start_time": "2021-02-11T16:39:38.197944Z"
    },
    "id": "5QMehTsPxVNo"
   },
   "outputs": [
    {
     "name": "stdout",
     "output_type": "stream",
     "text": [
      "[[inf inf inf]\n",
      " [inf inf inf]]\n"
     ]
    }
   ],
   "source": [
    "print(arr_inv)"
   ]
  },
  {
   "cell_type": "markdown",
   "metadata": {
    "id": "OrKYQyPrxPVl"
   },
   "source": [
    "We did get a **run-time error**"
   ]
  },
  {
   "cell_type": "code",
   "execution_count": 27,
   "metadata": {
    "ExecuteTime": {
     "end_time": "2021-02-11T16:39:50.390725Z",
     "start_time": "2021-02-11T16:39:50.386108Z"
    },
    "id": "tJiwmraBxgSg"
   },
   "outputs": [
    {
     "data": {
      "text/plain": [
       "array([[ True,  True,  True],\n",
       "       [ True,  True,  True]])"
      ]
     },
     "execution_count": 27,
     "metadata": {},
     "output_type": "execute_result"
    }
   ],
   "source": [
    "np.isinf(arr_inv)"
   ]
  },
  {
   "cell_type": "markdown",
   "metadata": {
    "id": "FptVB0tf3n9K"
   },
   "source": [
    "In lists, we say that we had to iterate through all the elements to increment each value by some value. NumPy makes our life easy"
   ]
  },
  {
   "cell_type": "code",
   "execution_count": 28,
   "metadata": {
    "ExecuteTime": {
     "end_time": "2021-02-11T16:39:51.721092Z",
     "start_time": "2021-02-11T16:39:51.717266Z"
    },
    "id": "egYqBkRH33ty"
   },
   "outputs": [
    {
     "name": "stdout",
     "output_type": "stream",
     "text": [
      "[[12  6 10]\n",
      " [18 14  8]]\n"
     ]
    }
   ],
   "source": [
    "print(2*arr1 + 2)"
   ]
  },
  {
   "cell_type": "markdown",
   "metadata": {
    "id": "SbPnDrml4dnW"
   },
   "source": [
    "To learn more how this works, browse for **NumPy broadcasting**"
   ]
  },
  {
   "cell_type": "markdown",
   "metadata": {
    "id": "xBcNna1awn86"
   },
   "source": [
    "Some important mathematical operations. Try running the code below"
   ]
  },
  {
   "cell_type": "code",
   "execution_count": 29,
   "metadata": {
    "ExecuteTime": {
     "end_time": "2021-02-11T16:39:53.247867Z",
     "start_time": "2021-02-11T16:39:53.241595Z"
    },
    "id": "HOVPBhZJwJ-3"
   },
   "outputs": [
    {
     "data": {
      "text/plain": [
       "array([[-0.95892427,  0.90929743, -0.7568025 ],\n",
       "       [ 0.98935825, -0.2794155 ,  0.14112001]])"
      ]
     },
     "execution_count": 29,
     "metadata": {},
     "output_type": "execute_result"
    }
   ],
   "source": [
    "np.sin(arr1)"
   ]
  },
  {
   "cell_type": "code",
   "execution_count": 30,
   "metadata": {
    "ExecuteTime": {
     "end_time": "2021-02-11T16:39:53.984496Z",
     "start_time": "2021-02-11T16:39:53.557890Z"
    },
    "id": "L0zlBVpjwMYF"
   },
   "outputs": [
    {
     "data": {
      "text/plain": [
       "array([[ 148.4131591 ,    7.3890561 ,   54.59815003],\n",
       "       [2980.95798704,  403.42879349,   20.08553692]])"
      ]
     },
     "execution_count": 30,
     "metadata": {},
     "output_type": "execute_result"
    }
   ],
   "source": [
    "np.exp(arr1)"
   ]
  },
  {
   "cell_type": "markdown",
   "metadata": {
    "id": "jtaaw2H2x8SJ"
   },
   "source": [
    "## Statistical operations"
   ]
  },
  {
   "cell_type": "code",
   "execution_count": 31,
   "metadata": {
    "ExecuteTime": {
     "end_time": "2021-02-11T16:39:58.066978Z",
     "start_time": "2021-02-11T16:39:58.061935Z"
    },
    "id": "X48jkBOCx_kc"
   },
   "outputs": [],
   "source": [
    "# Intialise an NumPy array with some vals\n",
    "arr = np.random.randint(0,50,(3,4))"
   ]
  },
  {
   "cell_type": "code",
   "execution_count": 32,
   "metadata": {
    "ExecuteTime": {
     "end_time": "2021-02-11T16:39:58.378096Z",
     "start_time": "2021-02-11T16:39:58.369054Z"
    },
    "id": "XMwtqwi7ygRG"
   },
   "outputs": [
    {
     "data": {
      "text/plain": [
       "4"
      ]
     },
     "execution_count": 32,
     "metadata": {},
     "output_type": "execute_result"
    }
   ],
   "source": [
    "np.amin(arr)"
   ]
  },
  {
   "cell_type": "code",
   "execution_count": 33,
   "metadata": {
    "ExecuteTime": {
     "end_time": "2021-02-11T16:39:58.600656Z",
     "start_time": "2021-02-11T16:39:58.596779Z"
    },
    "id": "hCnLaY5jykJx"
   },
   "outputs": [
    {
     "data": {
      "text/plain": [
       "49"
      ]
     },
     "execution_count": 33,
     "metadata": {},
     "output_type": "execute_result"
    }
   ],
   "source": [
    "np.amax(arr)"
   ]
  },
  {
   "cell_type": "code",
   "execution_count": 34,
   "metadata": {
    "ExecuteTime": {
     "end_time": "2021-02-11T16:39:58.832823Z",
     "start_time": "2021-02-11T16:39:58.827851Z"
    },
    "id": "nHuve64DymZv"
   },
   "outputs": [
    {
     "data": {
      "text/plain": [
       "23.833333333333332"
      ]
     },
     "execution_count": 34,
     "metadata": {},
     "output_type": "execute_result"
    }
   ],
   "source": [
    "np.mean(arr)"
   ]
  },
  {
   "cell_type": "code",
   "execution_count": 35,
   "metadata": {
    "ExecuteTime": {
     "end_time": "2021-02-11T16:39:59.125547Z",
     "start_time": "2021-02-11T16:39:59.120792Z"
    },
    "id": "1v8Uj6o2qIF-"
   },
   "outputs": [],
   "source": [
    "#axis 0 and axis 1"
   ]
  },
  {
   "cell_type": "markdown",
   "metadata": {
    "id": "DnDHOufryyj6"
   },
   "source": [
    "Browse for NumPy functions to find median, variance, standard deviation and percentile"
   ]
  },
  {
   "cell_type": "markdown",
   "metadata": {
    "id": "XXzKVFe_oLue"
   },
   "source": [
    "## Exercise Problem 1\n",
    "Write a program to multiply two matrices of size $(100, 100)$ in two methods: (a) by using `np.dot(mat_1, mat_2)` and (b) by using for-loops. Comapre the time of execution in both the cases. Check out the documentation of `np.dot` in case that is not familiar to you. "
   ]
  },
  {
   "cell_type": "code",
   "execution_count": 36,
   "metadata": {
    "id": "V1M_0booob-E"
   },
   "outputs": [],
   "source": [
    "#Initialise the two matrices\n",
    "mat_1 = np.random.rand(100,100)\n",
    "mat_2 = np.random.rand(100,100)\n",
    "#Intitialise the output matrix with zero\n"
   ]
  },
  {
   "cell_type": "code",
   "execution_count": 37,
   "metadata": {
    "id": "aaTJDwk_oRJ8"
   },
   "outputs": [],
   "source": [
    "## Using the definition of matrix mutliplication\n"
   ]
  },
  {
   "cell_type": "code",
   "execution_count": 38,
   "metadata": {
    "id": "UZr8eW-CoRzO"
   },
   "outputs": [],
   "source": [
    "## Using np.dot function\n"
   ]
  },
  {
   "cell_type": "markdown",
   "metadata": {
    "id": "oxSwKNnGkYA4"
   },
   "source": [
    "## Exercise Problem 2\n",
    "Create two vectors $y$ and $\\hat{y}$ having **same** dimensions, where $\\hat{y}$ should consist of random numbers between $[0, 1)$ and $y$ should contain $0s$ and $1s$, for example $y = [0, 1, 1, 0, 1, 0, 0, 1, ..., 1]$. Compute the given expression: $$O = -\\frac{1}{n}\\sum_{i=1}^{n}[y_i\\log_2(\\hat{y_i}) + (1-y_i)\\log_2(1-\\hat{y_i})]$$\n",
    "where $n$ = 100, is the total number of elements in $y$ and $\\hat{y}$."
   ]
  },
  {
   "cell_type": "code",
   "execution_count": 39,
   "metadata": {
    "id": "pfH-uS74kgUy"
   },
   "outputs": [],
   "source": [
    "#Given n = 100\n",
    "#Create a 1D array y, of size 100 with randomly selected 0s and 1s\n",
    "#Create a 1D array y_hat, of size 100 with numbers randomly (uniformly) selected from [0,1)\n",
    "#Find logarithmic loss (Also known as logarithmic loss)\n",
    "n = 100\n",
    "y_hat = np.random.uniform(size=n)\n"
   ]
  },
  {
   "cell_type": "markdown",
   "metadata": {
    "id": "iV28g8xXmZbD"
   },
   "source": [
    "The expression $O = -\\frac{1}{n}\\sum_{i=1}^{n}[y_i\\log_2(\\hat{y_i}) + (1-y_i)\\log_2(1-\\hat{y_i})]$, which you have computed is actually a **Cross-Entropy** loss function used in machine learning for classification task which tells us how bad or good model is performing, if $O$ is large then model is performing worst and vice versa."
   ]
  }
 ],
 "metadata": {
  "colab": {
   "collapsed_sections": [],
   "name": "Python_Session.ipynb",
   "provenance": [],
   "toc_visible": true
  },
  "kernelspec": {
   "display_name": "Python 3.8.13 ('torch-nightly')",
   "language": "python",
   "name": "python3"
  },
  "language_info": {
   "codemirror_mode": {
    "name": "ipython",
    "version": 3
   },
   "file_extension": ".py",
   "mimetype": "text/x-python",
   "name": "python",
   "nbconvert_exporter": "python",
   "pygments_lexer": "ipython3",
   "version": "3.8.13"
  },
  "toc": {
   "base_numbering": 1,
   "nav_menu": {},
   "number_sections": true,
   "sideBar": true,
   "skip_h1_title": false,
   "title_cell": "Table of Contents",
   "title_sidebar": "Contents",
   "toc_cell": false,
   "toc_position": {},
   "toc_section_display": true,
   "toc_window_display": false
  },
  "varInspector": {
   "cols": {
    "lenName": 16,
    "lenType": 16,
    "lenVar": 40
   },
   "kernels_config": {
    "python": {
     "delete_cmd_postfix": "",
     "delete_cmd_prefix": "del ",
     "library": "var_list.py",
     "varRefreshCmd": "print(var_dic_list())"
    },
    "r": {
     "delete_cmd_postfix": ") ",
     "delete_cmd_prefix": "rm(",
     "library": "var_list.r",
     "varRefreshCmd": "cat(var_dic_list()) "
    }
   },
   "types_to_exclude": [
    "module",
    "function",
    "builtin_function_or_method",
    "instance",
    "_Feature"
   ],
   "window_display": false
  },
  "vscode": {
   "interpreter": {
    "hash": "96f3b34ada46ee5e21a62afe05346301afc78e14b46989186e799e4b1d5dd107"
   }
  }
 },
 "nbformat": 4,
 "nbformat_minor": 1
}
