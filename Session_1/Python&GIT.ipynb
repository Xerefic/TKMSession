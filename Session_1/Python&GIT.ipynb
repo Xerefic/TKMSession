{
  "cells": [
    {
      "cell_type": "markdown",
      "metadata": {
        "id": "Y5Im3VdXV5um"
      },
      "source": [
        "## Why Python?\n",
        "\n",
        "It's easier to learn and read than most other languages, given the form of its syntax.\n",
        "\n",
        "There's a huge, rapidly-growing community of coders that use it.\n",
        "\n",
        "There are a large number of extra libraries made by third parties, that can make coding a breeze.\n",
        "\n",
        "Let's start our lesson with something every coder will be familiar with - the obligatory, \"Hello World!\" program\n",
        "\n",
        "Open up Python and type this - \n",
        "\n"
      ]
    },
    {
      "cell_type": "code",
      "execution_count": null,
      "metadata": {
        "ExecuteTime": {
          "end_time": "2021-02-11T16:34:12.081841Z",
          "start_time": "2021-02-11T16:34:12.075826Z"
        },
        "colab": {
          "base_uri": "https://localhost:8080/"
        },
        "id": "py5hFr-gVApd",
        "outputId": "e335d926-7703-463f-e9ea-a8f81db7dd2e"
      },
      "outputs": [
        {
          "name": "stdout",
          "output_type": "stream",
          "text": [
            "Hello World!\n"
          ]
        }
      ],
      "source": [
        "print(\"Hello World!\")\n",
        "# That's it, believe it or not!\n",
        "# By the way, this is a comment - you can freely type what you want to, \n",
        "# and the compiler will ignore it. Use comments to help readers understand your code, or to put random easter eggs :p"
      ]
    },
    {
      "cell_type": "markdown",
      "metadata": {
        "id": "CgDwz_ZXVHZV"
      },
      "source": [
        "There are two forms of Python - the Shell, and the Editor. The Shell executes statements instantly, while the Editor begins executing statements after you've written them all down and 'run' the program.\n"
      ]
    },
    {
      "cell_type": "markdown",
      "metadata": {
        "id": "kYi-rVOWfxIk"
      },
      "source": [
        "## Contents\n",
        "\n",
        "Today, we'll be going over the following topics:\n",
        "\n",
        "\n",
        "*   Data Types\n",
        "*   Conditional Statements\n",
        "*   Loops\n",
        "*   Operators\n",
        "*   Scope of Variables\n",
        "*   Lists, Tuples and Dictionaries\n",
        "*   Python Libraries\n",
        "\n"
      ]
    },
    {
      "cell_type": "markdown",
      "metadata": {
        "id": "Lt09_4a-gRt0"
      },
      "source": [
        "## Datatypes\n",
        "\n",
        "Varibles are grouped into different data types, with each data type giving a variable different properties. Using them lets us know what is expected from each variable; furthermore, functions (which you will learn about shortly) also react differently to variables based on their data type.\n",
        "\n",
        "The most commonly used data types are int(integers), float(decimal values), strings(characters, words and sentences) and bool(boolean values, i.e. True or False). There are several other data types like 'char' and 'complex', but we'll restrict our discussion to these ones, for now.\n",
        "\n"
      ]
    },
    {
      "cell_type": "code",
      "execution_count": null,
      "metadata": {
        "ExecuteTime": {
          "end_time": "2021-02-11T16:34:12.471442Z",
          "start_time": "2021-02-11T16:34:12.106807Z"
        },
        "colab": {
          "base_uri": "https://localhost:8080/"
        },
        "id": "UGMM6-1Los7U",
        "outputId": "2e1ad0a2-d3eb-43fa-854d-ead8b899517c"
      },
      "outputs": [
        {
          "name": "stdout",
          "output_type": "stream",
          "text": [
            "5\n",
            "Wallstreet Bets\n",
            "<class 'int'>\n",
            "<class 'str'>\n"
          ]
        }
      ],
      "source": [
        "x = 5\n",
        "name = \"Wallstreet Bets\"\n",
        "\n",
        "print(x)\n",
        "print(name)\n",
        "\n",
        "print(type(x))\n",
        "print(type(name))"
      ]
    },
    {
      "cell_type": "markdown",
      "metadata": {
        "id": "Tv2ZD5YepDie"
      },
      "source": [
        "The example code you just saw showed us something new - Python doesn't require you to declare a varible's data type as most other languages do. Rather, it infers it from the value you the variable."
      ]
    },
    {
      "cell_type": "markdown",
      "metadata": {
        "id": "wRCvlO4Cpdzm"
      },
      "source": [
        "## Conditional Statements\n",
        "\n",
        "Conditional Statements are used for decision-making."
      ]
    },
    {
      "cell_type": "code",
      "execution_count": null,
      "metadata": {
        "ExecuteTime": {
          "end_time": "2021-02-11T16:34:12.526359Z",
          "start_time": "2021-02-11T16:34:12.473415Z"
        },
        "colab": {
          "base_uri": "https://localhost:8080/"
        },
        "id": "Qt3tH2murO3J",
        "outputId": "254c92d6-d38f-4dc8-a13b-2093f48a7ddd"
      },
      "outputs": [
        {
          "name": "stdout",
          "output_type": "stream",
          "text": [
            "nice\n"
          ]
        }
      ],
      "source": [
        "a = 420\n",
        "if a == 420:\n",
        "  print(\"nice\")\n",
        "else:\n",
        "  print(\"meh\")"
      ]
    },
    {
      "cell_type": "markdown",
      "metadata": {
        "id": "fR1NevmkrpYC"
      },
      "source": [
        "Here we had to make a decision based on the value of a - whether to print 'nice' or not. That is what we use the following keywords for:\n",
        "\n",
        "\n",
        "*   if\n",
        "*   else\n",
        "*   elif\n",
        "\n",
        "These make use of test expressions, logical operations that evaluate to TRUE or FALSE - *if* the expression is true, the part indented below the 'if' expression is executed. Otherwise, it is ignored.\n",
        "\n",
        "The use of 'else' and 'elif' can be somewhat intuitively understood by the following code.\n",
        "\n"
      ]
    },
    {
      "cell_type": "code",
      "execution_count": null,
      "metadata": {
        "ExecuteTime": {
          "end_time": "2021-02-11T16:34:12.580431Z",
          "start_time": "2021-02-11T16:34:12.528691Z"
        },
        "colab": {
          "base_uri": "https://localhost:8080/"
        },
        "id": "rYFcNu_7skg3",
        "outputId": "cc3b77da-9969-4439-ee0b-83749db2e694"
      },
      "outputs": [
        {
          "name": "stdout",
          "output_type": "stream",
          "text": [
            "niiiiiice\n"
          ]
        }
      ],
      "source": [
        "b = 69\n",
        "if b == 420:\n",
        "  print('nice')\n",
        "elif b == 69:\n",
        "  print('niiiiiice')\n",
        "else:\n",
        "  print('lame')"
      ]
    },
    {
      "cell_type": "markdown",
      "metadata": {
        "id": "yxmh6_DKs_0y"
      },
      "source": [
        "## Loops\n",
        "Let's look at two programs with the same output:\n",
        "\n",
        "\n"
      ]
    },
    {
      "cell_type": "code",
      "execution_count": null,
      "metadata": {
        "ExecuteTime": {
          "end_time": "2021-02-11T16:34:12.642034Z",
          "start_time": "2021-02-11T16:34:12.586148Z"
        },
        "colab": {
          "base_uri": "https://localhost:8080/"
        },
        "id": "r4vqxmA4wv1J",
        "outputId": "23a8802e-fb3f-4a7b-df5d-3f5c06eba156"
      },
      "outputs": [
        {
          "name": "stdout",
          "output_type": "stream",
          "text": [
            "Hello!\n",
            "Hello!\n",
            "Hello!\n",
            "Hello!\n",
            "Hello!\n"
          ]
        }
      ],
      "source": [
        "print(\"Hello!\")\n",
        "print(\"Hello!\")\n",
        "print(\"Hello!\")\n",
        "print(\"Hello!\")\n",
        "print(\"Hello!\")"
      ]
    },
    {
      "cell_type": "code",
      "execution_count": null,
      "metadata": {
        "ExecuteTime": {
          "end_time": "2021-02-11T16:34:12.695736Z",
          "start_time": "2021-02-11T16:34:12.646608Z"
        },
        "colab": {
          "base_uri": "https://localhost:8080/"
        },
        "id": "c11KUDuMxN9q",
        "outputId": "0624c0eb-ad12-4700-84fd-4bec1a4daa25"
      },
      "outputs": [
        {
          "name": "stdout",
          "output_type": "stream",
          "text": [
            "Hello!\n",
            "Hello!\n",
            "Hello!\n",
            "Hello!\n",
            "Hello!\n"
          ]
        }
      ],
      "source": [
        "t = 0\n",
        "while(t < 5):\n",
        "    print(\"Hello!\")\n",
        "    t = t + 1"
      ]
    },
    {
      "cell_type": "markdown",
      "metadata": {
        "id": "NgLRIhSUxaRZ"
      },
      "source": [
        "Which of those two programs seemed more efficient? Furthermore, the first method would be impractical for tasks that need to be repeated thousands of times, as is the case in modern times. \n",
        "\n",
        "There are two kinds of loops - bounded and unbounded loops.\n",
        "\n",
        "Bounded loops - We  specify the exact number of iterations\n",
        "\n",
        "Unbounded loops - We don't\n",
        "\n",
        "An *iteration* is what you call each repeating step in a loop.\n",
        "\n",
        "### While loop\n",
        "\n",
        "The while loop is an unbounded loop with the following form:"
      ]
    },
    {
      "cell_type": "code",
      "execution_count": null,
      "metadata": {
        "ExecuteTime": {
          "end_time": "2021-02-11T16:34:12.747922Z",
          "start_time": "2021-02-11T16:34:12.697365Z"
        },
        "id": "QUVvvaq8yOzt",
        "outputId": "cc95d347-bb33-422e-be7d-66190854c6d5"
      },
      "outputs": [
        {
          "name": "stdout",
          "output_type": "stream",
          "text": [
            "0\n",
            "1\n",
            "2\n",
            "3\n",
            "4\n",
            "5\n",
            "6\n",
            "7\n",
            "8\n",
            "9\n"
          ]
        }
      ],
      "source": [
        "i = 0\n",
        "while(i<10):\n",
        " print(i)\n",
        " i = i + 1"
      ]
    },
    {
      "cell_type": "markdown",
      "metadata": {
        "id": "VLeQ-XeAyVUG"
      },
      "source": [
        "As you can see, we did not specify the number of iterations.\n",
        "\n",
        "Loops make use of a test expression as well - they check the expression before each iteration, and execute said iteration only if the test expression evaluates to \"TRUE\"\n",
        "\n",
        "### For Loop\n",
        "\n",
        "We also have the *for* loop, where we do have to specify the number of iterations. Let's look at some example code:"
      ]
    },
    {
      "cell_type": "code",
      "execution_count": null,
      "metadata": {
        "ExecuteTime": {
          "end_time": "2021-02-11T16:34:12.801200Z",
          "start_time": "2021-02-11T16:34:12.750000Z"
        },
        "colab": {
          "base_uri": "https://localhost:8080/"
        },
        "id": "s2iJWRJk69J5",
        "outputId": "8064c4c0-a9a2-4349-93ba-73d79e5419ce"
      },
      "outputs": [
        {
          "name": "stdout",
          "output_type": "stream",
          "text": [
            "0\n",
            "1\n",
            "2\n",
            "3\n",
            "4\n"
          ]
        }
      ],
      "source": [
        "for i in range(0,5,1):\n",
        "\tprint(i)\n"
      ]
    },
    {
      "cell_type": "markdown",
      "metadata": {
        "id": "en1WEIPWd1lH"
      },
      "source": [
        "## Nested Loops\n",
        "\n",
        "Loops within loops"
      ]
    },
    {
      "cell_type": "code",
      "execution_count": null,
      "metadata": {
        "ExecuteTime": {
          "end_time": "2021-02-11T16:34:12.857548Z",
          "start_time": "2021-02-11T16:34:12.810561Z"
        },
        "colab": {
          "base_uri": "https://localhost:8080/"
        },
        "id": "T3WpF5taQDDU",
        "outputId": "56aa62d8-024f-4591-9f37-ef7e8d1f7534"
      },
      "outputs": [
        {
          "name": "stdout",
          "output_type": "stream",
          "text": [
            "1\n",
            "12\n",
            "123\n",
            "1234\n"
          ]
        }
      ],
      "source": [
        "x = 4\n",
        "for i in range(1, x + 1):\n",
        "  for j in range(1, i + 1):\n",
        "    print(j, end = '')\n",
        "  print('')"
      ]
    },
    {
      "cell_type": "markdown",
      "metadata": {
        "id": "ojNbEV08gXNn"
      },
      "source": [
        "## Fibonacci Sequence Example\n",
        "\n",
        "A fibonoacci series is a sequence with the first two elements always defined as 0, then 1, and every element after that equal to the sum of the two elements before it i.e. for n > 2, the n<sup>th</sup> element = (n-1)<sup>th</sup> element + (n-2)<sup>th</sup> element\n",
        "\n",
        "0, 1, 1, 2, 3, 5, 8 ... , (n-1)<sup>th</sup> + (n-2)<sup>th</sup>"
      ]
    },
    {
      "cell_type": "code",
      "execution_count": null,
      "metadata": {
        "ExecuteTime": {
          "end_time": "2021-02-11T16:34:22.185444Z",
          "start_time": "2021-02-11T16:34:12.859462Z"
        },
        "colab": {
          "base_uri": "https://localhost:8080/"
        },
        "id": "yWjO9U-0SzXj",
        "outputId": "66dc5814-5473-4847-83fe-e8f967421bad"
      },
      "outputs": [
        {
          "name": "stdout",
          "output_type": "stream",
          "text": [
            "Enter Sequence Length: 10\n",
            "Sum is:  34\n"
          ]
        }
      ],
      "source": [
        "#code along with us!\n",
        "x = int(input(\"Enter Sequence Length: \"))\n",
        "\n",
        "#Defining the first 2 numbers of the sequence\n",
        "a = 0\n",
        "b = 1\n",
        "\n",
        "if (x <= 0):\n",
        "    print(\"Please re-enter the sequence length\")\n",
        "elif x == 1:\n",
        "    print(\"Sum is: \", a)\n",
        "else:\n",
        "    for i in range(x-2):\n",
        "        a, b = b, a+b\n",
        "    print(\"Sum is: \", b)"
      ]
    },
    {
      "cell_type": "markdown",
      "metadata": {
        "id": "4AjgJNPhCwFA"
      },
      "source": [
        "## Operators\n",
        "Operators perfom processes on variables and constants. The different kinds of operators can be understood through examples.\n",
        "\n",
        "### Arithmetic Operators\n",
        "\n",
        "\n",
        "1. Addition (+)\n",
        "2. Subtraction (-)\n",
        "3. Multiplication (*)\n",
        "4. Division (/)\n",
        "5. Modulus(%)\n",
        "6. Exponent(**)\n",
        "\n"
      ]
    },
    {
      "cell_type": "code",
      "execution_count": null,
      "metadata": {
        "ExecuteTime": {
          "end_time": "2021-02-11T16:34:22.201982Z",
          "start_time": "2021-02-11T16:34:22.190819Z"
        },
        "colab": {
          "base_uri": "https://localhost:8080/"
        },
        "id": "tSkILN2FDhrC",
        "outputId": "8a54a534-2c23-4296-afe7-5d2abfaa8574"
      },
      "outputs": [
        {
          "name": "stdout",
          "output_type": "stream",
          "text": [
            "11\n",
            "4\n",
            "20\n",
            "2.0\n",
            "5\n",
            "25\n"
          ]
        }
      ],
      "source": [
        "a = 5\n",
        "b = 6\n",
        "#operations in order\n",
        "print(a+b)\n",
        "print(b-2)\n",
        "print(a*4)\n",
        "print(b/3)\n",
        "print(a%b)\n",
        "print(a**2 )\n"
      ]
    },
    {
      "cell_type": "markdown",
      "metadata": {
        "id": "qOn_PEWPDqgB"
      },
      "source": [
        "### Comparison Operators\n",
        "\n",
        "\n",
        "1.    Check equality (== )\n",
        "2.    Check inequality(!= or <>)\n",
        "3.    Greater than (>)\n",
        "4.    Less than(<)\n",
        "5.    Greater than or equal to (>=)\n",
        "6.    Less than or equal to (<=)\n",
        "\n",
        "\n"
      ]
    },
    {
      "cell_type": "code",
      "execution_count": null,
      "metadata": {
        "ExecuteTime": {
          "end_time": "2021-02-11T16:34:22.686733Z",
          "start_time": "2021-02-11T16:34:22.208227Z"
        },
        "colab": {
          "base_uri": "https://localhost:8080/"
        },
        "id": "mhRC0bPOEYno",
        "outputId": "d2498aa6-ab26-4fea-b5d0-08b60d68ba0d"
      },
      "outputs": [
        {
          "name": "stdout",
          "output_type": "stream",
          "text": [
            "False\n",
            "True\n",
            "True\n",
            "False\n",
            "False\n",
            "False\n"
          ]
        }
      ],
      "source": [
        "a = 5\n",
        "b = 6\n",
        "#operations in order\n",
        "print(a==b)\n",
        "print(b!=2)\n",
        "print(a>4)\n",
        "print(b<3)\n",
        "print(a>=b)\n",
        "print(a<=2)"
      ]
    },
    {
      "cell_type": "markdown",
      "metadata": {
        "id": "KSeM7cmOEfFq"
      },
      "source": [
        "### Logical Operators\n",
        "\n",
        "\n",
        "\n",
        "1.  and\n",
        "2.  or\n",
        "3.  not\n",
        "\n"
      ]
    },
    {
      "cell_type": "code",
      "execution_count": null,
      "metadata": {
        "ExecuteTime": {
          "end_time": "2021-02-11T16:34:22.745094Z",
          "start_time": "2021-02-11T16:34:22.693017Z"
        },
        "colab": {
          "base_uri": "https://localhost:8080/"
        },
        "id": "cfbb9e-CEo00",
        "outputId": "bf7411bf-69e5-42db-9841-7d7bdb40eb33"
      },
      "outputs": [
        {
          "name": "stdout",
          "output_type": "stream",
          "text": [
            "some other thing\n",
            "b is not equal to 9\n"
          ]
        }
      ],
      "source": [
        "a = 5\n",
        "b = 6\n",
        "if(a==b and b>5):\n",
        " print(\"something\")\n",
        "\n",
        "if(a==5 or b==2):\n",
        " print(\"some other thing\")\n",
        "\n",
        "if(not b==9):\n",
        " print(\"b is not equal to 9\")"
      ]
    },
    {
      "cell_type": "markdown",
      "metadata": {
        "id": "CS60e1NYSsPF"
      },
      "source": [
        "## Lists\n",
        "\n",
        "A list is a collections of entries that is ordered and can be changed. They also allow duplicate entries. Entries of a list don't need to be of the same datatype. Look at some of the examples given below"
      ]
    },
    {
      "cell_type": "code",
      "execution_count": null,
      "metadata": {
        "ExecuteTime": {
          "end_time": "2021-02-11T16:34:25.540203Z",
          "start_time": "2021-02-11T16:34:25.532658Z"
        },
        "colab": {
          "base_uri": "https://localhost:8080/"
        },
        "id": "4wiQa7F2UHlW",
        "outputId": "6e312cef-149f-4d5a-c68d-3d977869e70c"
      },
      "outputs": [
        {
          "name": "stdout",
          "output_type": "stream",
          "text": [
            "['Hello', 2, True, 'The End']\n"
          ]
        }
      ],
      "source": [
        "a = ['Hello', 2, True, 'The End']\n",
        "print(a)"
      ]
    },
    {
      "cell_type": "markdown",
      "metadata": {
        "id": "dRs1GBq7Ugy7"
      },
      "source": [
        "You can access individual members of the list too!!\n",
        "\n",
        "Remember that the indexing starts from 0\n"
      ]
    },
    {
      "cell_type": "code",
      "execution_count": null,
      "metadata": {
        "ExecuteTime": {
          "end_time": "2021-02-11T16:34:25.597910Z",
          "start_time": "2021-02-11T16:34:25.546628Z"
        },
        "colab": {
          "base_uri": "https://localhost:8080/"
        },
        "id": "axYsVW_rUcGJ",
        "outputId": "56e7831b-b4a1-4d5f-89ef-92fccaa62be8"
      },
      "outputs": [
        {
          "name": "stdout",
          "output_type": "stream",
          "text": [
            "Hello True\n"
          ]
        }
      ],
      "source": [
        "print(a[0], a[2])"
      ]
    },
    {
      "cell_type": "markdown",
      "metadata": {
        "id": "xK8i9lQxX3A8"
      },
      "source": [
        "You can find out about the length of a list using the len function"
      ]
    },
    {
      "cell_type": "code",
      "execution_count": null,
      "metadata": {
        "ExecuteTime": {
          "end_time": "2021-02-11T16:34:26.867147Z",
          "start_time": "2021-02-11T16:34:25.603861Z"
        },
        "colab": {
          "base_uri": "https://localhost:8080/"
        },
        "id": "a3LOpfp1X7B0",
        "outputId": "7eb96daf-cc23-4f51-d135-aa4babb0ae15"
      },
      "outputs": [
        {
          "name": "stdout",
          "output_type": "stream",
          "text": [
            "4\n"
          ]
        }
      ],
      "source": [
        "print(len(a))"
      ]
    },
    {
      "cell_type": "markdown",
      "metadata": {
        "id": "SZGJrWIzU4lj"
      },
      "source": [
        "You learnt about for loops earlier right? Let's use that to make a slightly bigger list using the append function"
      ]
    },
    {
      "cell_type": "code",
      "execution_count": null,
      "metadata": {
        "ExecuteTime": {
          "end_time": "2021-02-11T16:34:26.926216Z",
          "start_time": "2021-02-11T16:34:26.873351Z"
        },
        "colab": {
          "base_uri": "https://localhost:8080/"
        },
        "id": "IzH-z3MpU1WE",
        "outputId": "1f8d5538-f04d-4c9c-90d9-76819b6e0d57"
      },
      "outputs": [
        {
          "name": "stdout",
          "output_type": "stream",
          "text": [
            "[0, 1, 2, 3, 4, 5, 6, 7, 8, 9]\n"
          ]
        }
      ],
      "source": [
        "b = []                    #Declare an empty list to which we will add elements\n",
        "\n",
        "for num in range(10):\n",
        "  b.append(num)           # It's that simple!!!!\n",
        "\n",
        "print(b)"
      ]
    },
    {
      "cell_type": "code",
      "execution_count": null,
      "metadata": {
        "ExecuteTime": {
          "end_time": "2021-02-11T16:34:26.978731Z",
          "start_time": "2021-02-11T16:34:26.931882Z"
        },
        "id": "5RgELBVUanRW"
      },
      "outputs": [],
      "source": [
        "# Code along with us\n",
        "# Let us make a list called big_numbers and append all 4 digit numbers to the list\n",
        "big_numbers = []\n",
        "\n",
        "for num in range(1000, 10000):\n",
        "    big_numbers.append(num)"
      ]
    },
    {
      "cell_type": "markdown",
      "metadata": {
        "id": "gwWIg0dzVcy_"
      },
      "source": [
        "Now let's take a scenario, where you made the list b and you've been asked to extract the second till the seventh element. Will you go through typing b[1], b[2], b[3] and so on? What if we take list big_numbers and you were required to extract 500 of those entries? Too much of a pain? Well worry not! Python allows for a simpler way to extract these elements"
      ]
    },
    {
      "cell_type": "code",
      "execution_count": null,
      "metadata": {
        "ExecuteTime": {
          "end_time": "2021-02-11T16:34:27.033169Z",
          "start_time": "2021-02-11T16:34:26.983914Z"
        },
        "colab": {
          "base_uri": "https://localhost:8080/"
        },
        "id": "n-fQVTzsVZC7",
        "outputId": "1364c5d2-a026-4907-9ee0-3d7ad2891bc3"
      },
      "outputs": [
        {
          "name": "stdout",
          "output_type": "stream",
          "text": [
            "[1, 2, 3, 4, 5, 6]\n"
          ]
        }
      ],
      "source": [
        "print( b[1:7] )   # Yes that's right, you can slice these elements in this manner. [start_index : end_index + 1]"
      ]
    },
    {
      "cell_type": "code",
      "execution_count": null,
      "metadata": {
        "ExecuteTime": {
          "end_time": "2021-02-11T16:34:27.083977Z",
          "start_time": "2021-02-11T16:34:27.035040Z"
        },
        "colab": {
          "base_uri": "https://localhost:8080/"
        },
        "id": "mld8GmWqWYr_",
        "outputId": "ed3464a7-6697-49a2-fa3d-17676d77d662"
      },
      "outputs": [
        {
          "name": "stdout",
          "output_type": "stream",
          "text": [
            "[1, 2, 3, 4, 5, 6, 7, 8, 9]\n"
          ]
        }
      ],
      "source": [
        "# You can also extract all the elements till the end in the following way\n",
        "print( b[1:] )"
      ]
    },
    {
      "cell_type": "markdown",
      "metadata": {
        "id": "Qvpyf964WlTf"
      },
      "source": [
        "Did you know that python allows you to extract negative indices too? You might be thinking about how that works right? Well whenever we provide python a negative index we essentially ask it to start at the end of the list and go backwards while indexing"
      ]
    },
    {
      "cell_type": "code",
      "execution_count": null,
      "metadata": {
        "ExecuteTime": {
          "end_time": "2021-02-11T16:34:27.137494Z",
          "start_time": "2021-02-11T16:34:27.086002Z"
        },
        "colab": {
          "base_uri": "https://localhost:8080/"
        },
        "id": "19Bxunc7Wjkg",
        "outputId": "274fb69e-94f3-47b6-a203-2b91c15e5fcd"
      },
      "outputs": [
        {
          "name": "stdout",
          "output_type": "stream",
          "text": [
            "9\n"
          ]
        }
      ],
      "source": [
        "print( b[-1] ) # SPOILER ALERT: It will print the last element!"
      ]
    },
    {
      "cell_type": "code",
      "execution_count": null,
      "metadata": {
        "ExecuteTime": {
          "end_time": "2021-02-11T16:34:27.197967Z",
          "start_time": "2021-02-11T16:34:27.142254Z"
        },
        "colab": {
          "base_uri": "https://localhost:8080/"
        },
        "id": "2924B0eVW5-D",
        "outputId": "1c1335de-83de-40b4-cd44-9d3f8f14b1d7"
      },
      "outputs": [
        {
          "name": "stdout",
          "output_type": "stream",
          "text": [
            "[6, 7]\n"
          ]
        }
      ],
      "source": [
        "print( b[-4: -2])"
      ]
    },
    {
      "cell_type": "markdown",
      "metadata": {
        "id": "gQrkNqTmXPiM"
      },
      "source": [
        "Now what do we do if we want to increment all the elements of b by 2 and store it in a new list c? You'll most probably think of something like this"
      ]
    },
    {
      "cell_type": "code",
      "execution_count": null,
      "metadata": {
        "ExecuteTime": {
          "end_time": "2021-02-11T16:34:27.253922Z",
          "start_time": "2021-02-11T16:34:27.211215Z"
        },
        "colab": {
          "base_uri": "https://localhost:8080/"
        },
        "id": "8xogBguCXEGQ",
        "outputId": "6d2321ad-9498-4b26-eb87-61de5de39524"
      },
      "outputs": [
        {
          "name": "stdout",
          "output_type": "stream",
          "text": [
            "[2, 3, 4, 5, 6, 7, 8, 9, 10, 11]\n"
          ]
        }
      ],
      "source": [
        "c = []\n",
        "\n",
        "for i in range(len(b)):\n",
        "  c.append(2 + b[i])\n",
        "\n",
        "print(c)"
      ]
    },
    {
      "cell_type": "markdown",
      "metadata": {
        "id": "HtMCU2kxYMbR"
      },
      "source": [
        "While in theory this is essentially what is happening, there is another way which is much smaller which python allows for. It's called List Comperehension. Look at the following example"
      ]
    },
    {
      "cell_type": "code",
      "execution_count": null,
      "metadata": {
        "ExecuteTime": {
          "end_time": "2021-02-11T16:34:27.304538Z",
          "start_time": "2021-02-11T16:34:27.257181Z"
        },
        "colab": {
          "base_uri": "https://localhost:8080/"
        },
        "id": "Qnb6vKZkXXgV",
        "outputId": "6c748fed-9ccd-41cb-c004-acb0d16b4e77"
      },
      "outputs": [
        {
          "name": "stdout",
          "output_type": "stream",
          "text": [
            "[2, 3, 4, 5, 6, 7, 8, 9, 10, 11]\n"
          ]
        }
      ],
      "source": [
        "c = [x+2 for x in b]\n",
        "\n",
        "print(c)"
      ]
    },
    {
      "cell_type": "markdown",
      "metadata": {
        "id": "9rXTpR2EYsV6"
      },
      "source": [
        "As you can see we've got the same results!!\n",
        "\n",
        "Let's try out an example"
      ]
    },
    {
      "cell_type": "code",
      "execution_count": null,
      "metadata": {
        "ExecuteTime": {
          "end_time": "2021-02-11T16:35:07.544517Z",
          "start_time": "2021-02-11T16:35:07.535252Z"
        },
        "id": "mJjRbWWTZ6Ec",
        "outputId": "06163e30-334f-4108-de21-296048f96923"
      },
      "outputs": [
        {
          "data": {
            "text/plain": [
              "[42, 8, 9, 10, 11]"
            ]
          },
          "execution_count": 39,
          "metadata": {},
          "output_type": "execute_result"
        }
      ],
      "source": [
        "# Code along with us!!\n",
        "# Let us make a new list d whose entries are those entries in c which are greater than 6\n",
        "\n",
        "d = [x for x in c if x>6]\n",
        "d"
      ]
    },
    {
      "cell_type": "markdown",
      "metadata": {
        "id": "32qEoBnaZyXj"
      },
      "source": [
        "Well what do we do if we want to change the 3rd element of the list c to the number 42?"
      ]
    },
    {
      "cell_type": "code",
      "execution_count": null,
      "metadata": {
        "ExecuteTime": {
          "end_time": "2021-02-11T16:34:40.876947Z",
          "start_time": "2021-02-11T16:34:40.869628Z"
        },
        "colab": {
          "base_uri": "https://localhost:8080/"
        },
        "id": "G0dUISuaYgJn",
        "outputId": "8e621f9e-488b-475d-b3a9-f56ce98e87b4"
      },
      "outputs": [
        {
          "name": "stdout",
          "output_type": "stream",
          "text": [
            "[2, 3, 42, 5, 6, 7, 8, 9, 10, 11]\n"
          ]
        }
      ],
      "source": [
        "# We simply do\n",
        "c[2] = 42\n",
        "\n",
        "print(c)"
      ]
    },
    {
      "cell_type": "markdown",
      "metadata": {
        "id": "gxYNfrUnZLVS"
      },
      "source": [
        "As you can see the third element of the list has changed\n",
        "\n",
        "Let us try removing one element from somewhere in between. Let's remove 7 from the list c"
      ]
    },
    {
      "cell_type": "code",
      "execution_count": null,
      "metadata": {
        "ExecuteTime": {
          "end_time": "2021-02-11T16:34:41.626381Z",
          "start_time": "2021-02-11T16:34:41.618658Z"
        },
        "colab": {
          "base_uri": "https://localhost:8080/"
        },
        "id": "fIPI9YHoZJfX",
        "outputId": "df633d85-3fb9-4cea-c709-0c97695a6af1"
      },
      "outputs": [
        {
          "name": "stdout",
          "output_type": "stream",
          "text": [
            "[2, 3, 42, 5, 6, 8, 9, 10, 11]\n"
          ]
        }
      ],
      "source": [
        "c.remove(7)\n",
        "\n",
        "print(c)"
      ]
    },
    {
      "cell_type": "markdown",
      "metadata": {
        "id": "u4y75yWabPuC"
      },
      "source": [
        "## Tuples\n",
        "A tuple is a collection of entries which are ordered in the same way as lists but cannot be changed.\n",
        "\n",
        "All the regular list operations apply to tuples except for those which attempt to change it's own value"
      ]
    },
    {
      "cell_type": "code",
      "execution_count": null,
      "metadata": {
        "ExecuteTime": {
          "end_time": "2021-02-11T16:34:43.465382Z",
          "start_time": "2021-02-11T16:34:43.457882Z"
        },
        "colab": {
          "base_uri": "https://localhost:8080/"
        },
        "id": "URkdzxTrZhaK",
        "outputId": "8bc97d93-50bd-4910-f7be-1919defd7360"
      },
      "outputs": [
        {
          "name": "stdout",
          "output_type": "stream",
          "text": [
            "(1, 2, 3, 4, 5, 6)\n"
          ]
        }
      ],
      "source": [
        "# Let us define a tuple\n",
        "\n",
        "tup_a = (1,2,3,4,5,6)\n",
        "\n",
        "print(tup_a)"
      ]
    },
    {
      "cell_type": "markdown",
      "metadata": {
        "id": "1F1xXCSLcI4J"
      },
      "source": [
        "Let us try changing the entry of a tuple and see what happens"
      ]
    },
    {
      "cell_type": "code",
      "execution_count": null,
      "metadata": {
        "ExecuteTime": {
          "end_time": "2021-02-11T16:34:46.128981Z",
          "start_time": "2021-02-11T16:34:46.121487Z"
        },
        "colab": {
          "base_uri": "https://localhost:8080/",
          "height": 162
        },
        "id": "S2gWKYTYbshj",
        "outputId": "a67ec213-6c75-4fa6-c759-ceee698f9cac"
      },
      "outputs": [
        {
          "ename": "TypeError",
          "evalue": "'tuple' object does not support item assignment",
          "output_type": "error",
          "traceback": [
            "\u001b[0;31m---------------------------------------------------------------------------\u001b[0m",
            "\u001b[0;31mTypeError\u001b[0m                                 Traceback (most recent call last)",
            "\u001b[0;32m<ipython-input-38-6b822e1b98b1>\u001b[0m in \u001b[0;36m<module>\u001b[0;34m\u001b[0m\n\u001b[0;32m----> 1\u001b[0;31m \u001b[0mtup_a\u001b[0m\u001b[0;34m[\u001b[0m\u001b[0;36m2\u001b[0m\u001b[0;34m]\u001b[0m \u001b[0;34m=\u001b[0m \u001b[0;36m42\u001b[0m\u001b[0;34m\u001b[0m\u001b[0;34m\u001b[0m\u001b[0m\n\u001b[0m",
            "\u001b[0;31mTypeError\u001b[0m: 'tuple' object does not support item assignment"
          ]
        }
      ],
      "source": [
        "tup_a[2] = 42"
      ]
    },
    {
      "cell_type": "markdown",
      "metadata": {
        "id": "ZgdfAOoJcSEk"
      },
      "source": [
        "Oh no, it errored out :(\n",
        "  \n",
        "But this was expected right?"
      ]
    },
    {
      "cell_type": "code",
      "execution_count": null,
      "metadata": {
        "ExecuteTime": {
          "end_time": "2021-02-11T16:35:50.043490Z",
          "start_time": "2021-02-11T16:35:50.034462Z"
        },
        "id": "P1aZw2WXcQs2",
        "outputId": "bbf5ccea-2968-40b8-8f8c-6680ade2850e"
      },
      "outputs": [
        {
          "name": "stdout",
          "output_type": "stream",
          "text": [
            "[6, 8, 10]\n",
            "(3, 4, 5)\n"
          ]
        }
      ],
      "source": [
        "# Code along with us\n",
        "# Make a new list e which has double the values of tuple a and select the 3rd till 5th element (both inclusive) of both list b and tuple tup_a to compare\n",
        "\n",
        "e = [2*x for x in tup_a]\n",
        "\n",
        "print(e[2:5])\n",
        "print(tup_a[2:5])"
      ]
    },
    {
      "cell_type": "markdown",
      "metadata": {
        "id": "4K_M7yPdrnrL"
      },
      "source": [
        "## Sets\n",
        "A collection of items that is both unordered and unindexed and doesn't allow duplicate values is called a set. Its main usage is to store multiple items in a single variable.\n"
      ]
    },
    {
      "cell_type": "code",
      "execution_count": null,
      "metadata": {
        "colab": {
          "base_uri": "https://localhost:8080/"
        },
        "id": "xTUCNWINsMWx",
        "outputId": "46c3b64e-435c-4265-ffda-d3db933fa4ef"
      },
      "outputs": [
        {
          "name": "stdout",
          "output_type": "stream",
          "text": [
            "{'apple', 'cherry', 'banana'}\n",
            "{'apple', 'cherry', 'banana'}\n"
          ]
        }
      ],
      "source": [
        "thisset = {\"apple\", \"banana\", \"cherry\"}\n",
        "print(thisset) \n",
        "\n",
        "#Another way to define it\n",
        "thisset = set([\"apple\", \"banana\", \"cherry\"])\n",
        "print(thisset)"
      ]
    },
    {
      "cell_type": "markdown",
      "metadata": {
        "id": "ifOGk8mVse6x"
      },
      "source": [
        "Well now that we know how to define a set let's go ahead and see some set operations"
      ]
    },
    {
      "cell_type": "code",
      "execution_count": null,
      "metadata": {
        "colab": {
          "base_uri": "https://localhost:8080/"
        },
        "id": "TX9ZyfoKsnvV",
        "outputId": "c7921ca3-f6a7-4707-d1df-f7aac3da76db"
      },
      "outputs": [
        {
          "name": "stdout",
          "output_type": "stream",
          "text": [
            "{1, 2, 3, 4, 5, 6, 7} {1, 2, 3, 4, 5}\n",
            "{1, 2, 3, 4, 5}\n",
            "{1, 2, 3, 4, 5, 6, 7}\n"
          ]
        }
      ],
      "source": [
        "one=set([4,5,6,7,1,2,3]) \n",
        "two=set([4,5,3,2,1,2]) \n",
        " \n",
        "print(\"The sets: \", one, two)\n",
        "print (\"Intersection: \",one & two) \n",
        "print (\"Union: \",one | two) \n",
        "print(\"Difference: \",one - two)"
      ]
    },
    {
      "cell_type": "markdown",
      "metadata": {
        "id": "m0UoxWLguXuI"
      },
      "source": [
        "As you can see with set two, the value which was repeated has got deleted while creating the set"
      ]
    },
    {
      "cell_type": "markdown",
      "metadata": {
        "id": "vS5HsK0RdTfR"
      },
      "source": [
        "# Dictionaries\n",
        "\n",
        "A dictionary is a collection of key value pairs which is ordered, changable and does not allow duplicate members. \n",
        "\n",
        "Too much terminology which doesn't make sense?\n",
        "\n",
        "Don't worry about it! Let's consider an analogy. \n",
        "\n",
        "What do you do when you save your close friend Manish's phone number on your phone? You type in their name followed by their phone number so that when they call you, you don't just see 10 digits staring at your face but instead see your friend's name. Well while saving that friend's number you have essentially created a dictionary!!!!\n",
        "\n",
        "You have used the friend's name as the key and his/her phone number as the value in the key value pair of the dictionary"
      ]
    },
    {
      "cell_type": "code",
      "execution_count": null,
      "metadata": {
        "colab": {
          "base_uri": "https://localhost:8080/"
        },
        "id": "1w3OBj3qclkS",
        "outputId": "5300a6a9-56a5-48f7-9067-845f94d0087e"
      },
      "outputs": [
        {
          "name": "stdout",
          "output_type": "stream",
          "text": [
            "{'Manish': 9937593721}\n"
          ]
        }
      ],
      "source": [
        "phone_num = {'Manish': 987654321}  # This is just a random number I typed which starts with 9 please don't call this number, I don't even know if it's valid.\n",
        "\n",
        "print(phone_num)"
      ]
    },
    {
      "cell_type": "markdown",
      "metadata": {
        "id": "phbwHsM2e4vG"
      },
      "source": [
        "You go on and meet another friend of yours whose name is Harish. He gives you his number so once again you save this number"
      ]
    },
    {
      "cell_type": "code",
      "execution_count": null,
      "metadata": {
        "colab": {
          "base_uri": "https://localhost:8080/"
        },
        "id": "pYXwIccXejoA",
        "outputId": "8390ddf0-6ff9-429e-ed66-b0be0ba1df21"
      },
      "outputs": [
        {
          "name": "stdout",
          "output_type": "stream",
          "text": [
            "{'Manish': 9937593721, 'Harish': 9203848363}\n"
          ]
        }
      ],
      "source": [
        "phone_num['Harish'] = 123456789  # You can make a new entry by mentioning the key and the value as shown\n",
        "\n",
        "print(phone_num)"
      ]
    },
    {
      "cell_type": "markdown",
      "metadata": {
        "id": "4yzuSfxofYu0"
      },
      "source": [
        "While you were talking to Harish, somewhere in the conversation Harish tells you that very recently he had switched his phone and he lost all his contacts. He asks you to give him Manish's number as they too are good friends. But wait none of us actually remember all our friends numbers do we? :P\n",
        "\n",
        "Well the dictionary you created can be used for this purpose!"
      ]
    },
    {
      "cell_type": "code",
      "execution_count": null,
      "metadata": {
        "colab": {
          "base_uri": "https://localhost:8080/"
        },
        "id": "bjcR9K5CfXiY",
        "outputId": "d4d768ad-c5ea-4d00-8e83-67cf2abcd842"
      },
      "outputs": [
        {
          "name": "stdout",
          "output_type": "stream",
          "text": [
            "9937593721\n"
          ]
        }
      ],
      "source": [
        "print( phone_num['Manish'] )"
      ]
    },
    {
      "cell_type": "markdown",
      "metadata": {
        "id": "gBrdOk2AgHDB"
      },
      "source": [
        "While you're talking Harish who is a little absent minded suddenly remembers that he gave you his old phone number by mistake and now wants you to save his new number. Well how do we do that with dictionaries?"
      ]
    },
    {
      "cell_type": "code",
      "execution_count": null,
      "metadata": {
        "colab": {
          "base_uri": "https://localhost:8080/"
        },
        "id": "ZE_dJ1fmf8sS",
        "outputId": "69b5d796-b549-4b29-8639-9b8ef82409ba"
      },
      "outputs": [
        {
          "name": "stdout",
          "output_type": "stream",
          "text": [
            "{'Manish': 9937593721, 'Harish': 9694038272}\n"
          ]
        }
      ],
      "source": [
        "phone_num['Harish'] = 214365879   # It's that simple!\n",
        "\n",
        "print(phone_num)"
      ]
    },
    {
      "cell_type": "markdown",
      "metadata": {
        "id": "2JIRnXORgqaj"
      },
      "source": [
        "And while he's at it, he asks you to also save his email ID just in case something goes wrong. Well you might be thinking how do we do that? \n",
        "\n",
        "Did you know that python also allows us to make a dictionary inside a dictionary?"
      ]
    },
    {
      "cell_type": "code",
      "execution_count": null,
      "metadata": {
        "colab": {
          "base_uri": "https://localhost:8080/"
        },
        "id": "s8fth1AQgd2V",
        "outputId": "d31c228a-87f4-4015-8ef9-21c4746448a2"
      },
      "outputs": [
        {
          "name": "stdout",
          "output_type": "stream",
          "text": [
            "{'Manish': 9937593721, 'Harish': {'number': 9694038272, 'email': 'harishsinha2002@abc.com'}}\n"
          ]
        }
      ],
      "source": [
        "phone_num['Harish'] = {'number': 214365879, 'email': 'harish@abc.com'}\n",
        "\n",
        "print(phone_num)"
      ]
    },
    {
      "cell_type": "markdown",
      "metadata": {
        "id": "PmDjjVD_hhLe"
      },
      "source": [
        "Well how convenient is that?"
      ]
    },
    {
      "cell_type": "markdown",
      "metadata": {
        "id": "kps0oPRQirDq"
      },
      "source": [
        "## Functions\n",
        "\n",
        "Functions are \"self contained\" modules of code that accomplish a specific task. \n",
        "Functions usually \"take in\" data, process it, and \"return\" a result. \n",
        "Once a function is written, it can be used over and over and over again. "
      ]
    },
    {
      "cell_type": "code",
      "execution_count": null,
      "metadata": {
        "colab": {
          "base_uri": "https://localhost:8080/"
        },
        "id": "Pcpf_vuihfxN",
        "outputId": "a6ece846-ce3d-4e3f-a842-5e200f4325d4"
      },
      "outputs": [
        {
          "name": "stdout",
          "output_type": "stream",
          "text": [
            "5\n"
          ]
        }
      ],
      "source": [
        "def add_nums(a, b):\n",
        "  return a+b\n",
        "\n",
        "print(add_nums(2,3))"
      ]
    },
    {
      "cell_type": "markdown",
      "metadata": {
        "id": "UB8Dmu16jGHe"
      },
      "source": [
        "Well at this point you might think, why do we even need functions? it would be easier to type a+b than add_nums(a,b)\n",
        "\n",
        "But what happens when you have bigger pieces of code that you want to run?\n",
        "\n",
        "Let's say you want to check if a number is even or odd"
      ]
    },
    {
      "cell_type": "code",
      "execution_count": null,
      "metadata": {
        "id": "nBGuqI1Gi7OL"
      },
      "outputs": [],
      "source": [
        "def odd_even(num):\n",
        "  if num % 2 == 0:\n",
        "    return 'Even'\n",
        "  else:\n",
        "    return 'Odd'"
      ]
    },
    {
      "cell_type": "code",
      "execution_count": null,
      "metadata": {
        "colab": {
          "base_uri": "https://localhost:8080/"
        },
        "id": "v4azWl0PjkXp",
        "outputId": "74f9e244-be01-4d39-8a6f-691ba09c4236"
      },
      "outputs": [
        {
          "name": "stdout",
          "output_type": "stream",
          "text": [
            "Even Even Odd\n"
          ]
        }
      ],
      "source": [
        "print(odd_even(4), odd_even(6), odd_even(5))"
      ]
    },
    {
      "cell_type": "markdown",
      "metadata": {
        "id": "CcPb8jUeN2hs"
      },
      "source": [
        "## Example Problem: Adding Reversed Numbers\n",
        "\n",
        "Based on the SPOJ.com problem: https://www.spoj.com/problems/ADDREV/\n",
        "\n",
        "Given two integers, reverse their digits and add them."
      ]
    },
    {
      "cell_type": "markdown",
      "metadata": {
        "id": "3jBci86hjxiF"
      },
      "source": [
        "Didn't that just save us a lot of time and unnecesary typing of code?"
      ]
    },
    {
      "cell_type": "code",
      "execution_count": null,
      "metadata": {},
      "outputs": [],
      "source": [
        "# enter your code here"
      ]
    },
    {
      "cell_type": "markdown",
      "metadata": {
        "id": "bhBw5fP1nO8b"
      },
      "source": [
        "## Example Problem\n",
        "\n",
        "Let's Solve a question to actually get an idea of what's happening\n",
        "\n",
        "Write a function in python to take in a list a and a number d. Rotate the array a to the left by one step d times and return the output\n",
        "\n",
        "Detialed problem statement can be found [here](https://www.hackerrank.com/challenges/array-left-rotation/problem)"
      ]
    },
    {
      "cell_type": "code",
      "execution_count": null,
      "metadata": {
        "id": "6Vnp4ArQjvcs"
      },
      "outputs": [],
      "source": [
        "# enter your code here\n"
      ]
    },
    {
      "cell_type": "markdown",
      "metadata": {
        "id": "Sgy6Tji4OlZi"
      },
      "source": [
        "## Classes\n",
        "\n",
        "- A class is a blueprint for an object.\n",
        "\n",
        "- It is a way to bundle data (even of different data types) together. \n",
        "- Each variable or piece of data is known as an attribute of the class.\n",
        "\n",
        "- In addition, a class can have functions associated with it called methods.\n",
        "\n",
        "An object is an instance of a class.\n",
        "\n"
      ]
    },
    {
      "cell_type": "code",
      "execution_count": null,
      "metadata": {
        "id": "0opUsmdrOlZi"
      },
      "outputs": [],
      "source": [
        "class Number():\n",
        "    def __init__(self, value, power=1e-3):\n",
        "        self.value = value\n",
        "        self.power = power\n",
        "    \n",
        "    def __str__(self):\n",
        "        return str(self.value*self.power)\n",
        "\n",
        "    def update(self, value):\n",
        "        self.value = value"
      ]
    },
    {
      "cell_type": "code",
      "execution_count": null,
      "metadata": {
        "id": "BDnY-M3ZOlZj"
      },
      "outputs": [],
      "source": [
        "number = Number(466)\n",
        "\n",
        "print(number)"
      ]
    },
    {
      "cell_type": "markdown",
      "metadata": {
        "id": "-WV82cCLOlZj"
      },
      "source": [
        "Using classes to represent a vector"
      ]
    },
    {
      "cell_type": "code",
      "execution_count": null,
      "metadata": {
        "id": "umKzdtcCOlZj"
      },
      "outputs": [],
      "source": [
        "import math"
      ]
    },
    {
      "cell_type": "code",
      "execution_count": null,
      "metadata": {
        "id": "OLGtRZ0fOlZj"
      },
      "outputs": [],
      "source": [
        "class Coordinates():\n",
        "    def __init__(self, x, y):\n",
        "        self.x = x\n",
        "        self.y = y\n",
        "\n",
        "    def get(self):\n",
        "        return (self.x, self.y)\n",
        "\n",
        "    def get_distance(self, point):\n",
        "        return math.sqrt( (self.x-point.x)**2 + (self.y-point.y)**2 )"
      ]
    },
    {
      "cell_type": "code",
      "execution_count": null,
      "metadata": {
        "id": "jq6YfoKJOlZk"
      },
      "outputs": [],
      "source": [
        "class Vector():\n",
        "    def __init__(self, start, end):\n",
        "        self.start = Coordinates(start[0], start[1])\n",
        "        self.end = Coordinates(end[0], end[1])\n",
        "\n",
        "    def get_magnitude(self):\n",
        "        return self.start.get_distance(self.end)\n",
        "\n",
        "    def get_orietation(self):\n",
        "        return math.atan((self.end.y - self.start.y)/(self.end.x - self.start.x)) * 180/math.pi"
      ]
    },
    {
      "cell_type": "code",
      "execution_count": null,
      "metadata": {
        "id": "GDRxS-HyOlZk"
      },
      "outputs": [],
      "source": [
        "vector = Vector(start=(0,0), end=(5,5))\n",
        "\n",
        "print(\"Magnitude of the Vector: \", vector.get_magnitude())\n",
        "print(\"Orietation of the Vector: \", vector.get_orietation())"
      ]
    },
    {
      "cell_type": "markdown",
      "metadata": {
        "id": "8Zg6M7zjOlZl"
      },
      "source": [
        "### Inheritance\n",
        "\n",
        "The cleass `Student` inherits both the attributes and the methods of the parent class `Name`."
      ]
    },
    {
      "cell_type": "code",
      "execution_count": null,
      "metadata": {
        "id": "yMLEy8gROlZl"
      },
      "outputs": [],
      "source": [
        "class Name():\n",
        "    def __init__(self, first, last):\n",
        "        self.first = first\n",
        "        self.last = last\n",
        "\n",
        "    def __str__(self):\n",
        "        return f\"{self.first} {self.last}\""
      ]
    },
    {
      "cell_type": "code",
      "execution_count": null,
      "metadata": {
        "id": "DrHUeR_cOlZl"
      },
      "outputs": [],
      "source": [
        "class Student(Name):\n",
        "    def __init__(self, first, last, grade):\n",
        "        Name.__init__(self, first, last)\n",
        "        self.grade = grade\n",
        "\n",
        "    def get(self):\n",
        "        print(f\"Name: {self.first} {self.last}\")\n",
        "        print(f\"Class: {self.grade}\")"
      ]
    },
    {
      "cell_type": "code",
      "execution_count": null,
      "metadata": {
        "id": "3OM7cg-eOlZm"
      },
      "outputs": [],
      "source": [
        "student = Student(\"John\", \"Doe\", 8)\n",
        "\n",
        "student.get()"
      ]
    },
    {
      "cell_type": "markdown",
      "metadata": {
        "id": "4GkwLqq0OlZm"
      },
      "source": [
        "What about the methods?"
      ]
    },
    {
      "cell_type": "code",
      "execution_count": null,
      "metadata": {
        "id": "B8PUiRv-OlZm"
      },
      "outputs": [],
      "source": [
        "print(student)"
      ]
    },
    {
      "cell_type": "code",
      "execution_count": null,
      "metadata": {
        "id": "Wa7TP1PMOlZm"
      },
      "outputs": [],
      "source": [
        "class Employee(Name):\n",
        "    def __init__(self, first, last, id):\n",
        "        super().__init__(first, last)\n",
        "        self.id = id\n",
        "\n",
        "    def get(self):\n",
        "        print(f\"Name: {self.first} {self.last}\")\n",
        "        print(f\"ID: {self.id}\")"
      ]
    },
    {
      "cell_type": "code",
      "execution_count": null,
      "metadata": {
        "id": "RjUnFHYVOlZn"
      },
      "outputs": [],
      "source": [
        "employee = Employee(\"Jane\", \"Doe\", \"1234\")\n",
        "\n",
        "employee.get()"
      ]
    },
    {
      "cell_type": "markdown",
      "metadata": {
        "id": "HA0YmyPNTf_6"
      },
      "source": [
        "# GIT \n"
      ]
    },
    {
      "cell_type": "markdown",
      "metadata": {
        "id": "TbCqZUbgZcUj"
      },
      "source": [
        "Git is a type of version control system (VCS). A VCS enables you to record changes to files over time\n"
      ]
    },
    {
      "cell_type": "markdown",
      "metadata": {
        "id": "k3rg3fhlb1xL"
      },
      "source": [
        "### GitHuB"
      ]
    },
    {
      "cell_type": "markdown",
      "metadata": {
        "id": "R_wGBcqcb6ck"
      },
      "source": [
        "GitHub is a provider of Internet hosting for software development and version control using Git. It offers the distributed version control and source code management functionality of Git, plus its own features."
      ]
    },
    {
      "cell_type": "markdown",
      "metadata": {
        "id": "gerKcLY7rrO8"
      },
      "source": [
        "![Gitvs_Github-1a-1.jpg](data:image/jpeg;base64,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)"
      ]
    },
    {
      "cell_type": "markdown",
      "metadata": {
        "id": "d6sTGVW9cJcv"
      },
      "source": [
        "1. Create a GitHub Repo\n",
        "2. Clone the GitHub Repo in your local system\n",
        "\n",
        "Now you have a created a folder in your local system where you can add files and push it again to GitHub "
      ]
    },
    {
      "cell_type": "markdown",
      "metadata": {
        "id": "r6ZQfxlbeZ0B"
      },
      "source": [
        "**.gitignore file**: \n",
        "\n",
        "When you make commits in a git repository, you choose which files to stage and commit by using git add FILENAME and then git commit. But what if there are some files that you never want to commit? It's too easy to accidentally commit them (especially if you use git add . to stage all files in the current directory). That's where a .gitignore file comes in handy. It lets Git know that it should ignore certain files and not track them."
      ]
    },
    {
      "cell_type": "markdown",
      "metadata": {
        "id": "pekKyGSgf_Sq"
      },
      "source": [
        "**Adding files in the local system and pushing it to GitHub**\n",
        "\n",
        "1. Add files in the folder in your local system\n",
        "2. cd \"Your Folder Name\"\n",
        "3. Configure GitHub username and password( You need to do this only the first time)\n",
        "3. git add .\n",
        "4. git commit -m\"Your Message\"\n",
        "5. git push origin main\n",
        "\n",
        "There you go you have succesfully pushed your files onto the GitHub Repo"
      ]
    },
    {
      "cell_type": "markdown",
      "metadata": {
        "id": "R1J_Y2Exh0aB"
      },
      "source": [
        "If there was a change in the files directly in GitHub. To retreive the new changes from GitHub:\n",
        "\n",
        "1. cd \" Your Folder Name\"\n",
        "2. git fetch origin\n",
        "3. git merge origin/main\n",
        "\n",
        "There you go, you have successfully synced the both the repos"
      ]
    },
    {
      "cell_type": "markdown",
      "metadata": {
        "id": "GK9P8ot2jWBy"
      },
      "source": [
        "**Forking a GitHub Repo**\n",
        "\n",
        "A fork is a copy of a repository. Forking a repository allows you to freely experiment with changes without affecting the original project."
      ]
    },
    {
      "cell_type": "markdown",
      "metadata": {
        "id": "LrgOhbzyOwv0"
      },
      "source": [
        "**Making a pull request**\n",
        "\n",
        "Pull requests let you tell others about changes you've pushed to a branch in a repository on GitHub. Once a pull request is opened, you can discuss and review the potential changes with collaborators and add follow-up commits before your changes are merged into the base branch."
      ]
    },
    {
      "cell_type": "markdown",
      "metadata": {
        "id": "_9MuE1Ne7NhO"
      },
      "source": [
        "To better understand and to know more functionality of git, refer these following youtube videos:\n",
        "\n",
        "1. [Core Concepts](https://www.youtube.com/watch?v=uR6G2v_WsRA)\n",
        "\n",
        "2. [Branching and Merging](https://www.youtube.com/watch?v=FyAAIHHClqI)\n",
        "\n",
        "3. [Remotes](https://www.youtube.com/watch?v=Gg4bLk8cGNo)"
      ]
    }
  ],
  "metadata": {
    "colab": {
      "collapsed_sections": [],
      "name": "Python & GIT.ipynb",
      "provenance": [],
      "toc_visible": true
    },
    "kernelspec": {
      "display_name": "Python 3",
      "language": "python",
      "name": "python3"
    },
    "language_info": {
      "codemirror_mode": {
        "name": "ipython",
        "version": 3
      },
      "file_extension": ".py",
      "mimetype": "text/x-python",
      "name": "python",
      "nbconvert_exporter": "python",
      "pygments_lexer": "ipython3",
      "version": "3.8.5"
    },
    "toc": {
      "base_numbering": 1,
      "nav_menu": {},
      "number_sections": true,
      "sideBar": true,
      "skip_h1_title": false,
      "title_cell": "Table of Contents",
      "title_sidebar": "Contents",
      "toc_cell": false,
      "toc_position": {},
      "toc_section_display": true,
      "toc_window_display": false
    },
    "varInspector": {
      "cols": {
        "lenName": 16,
        "lenType": 16,
        "lenVar": 40
      },
      "kernels_config": {
        "python": {
          "delete_cmd_postfix": "",
          "delete_cmd_prefix": "del ",
          "library": "var_list.py",
          "varRefreshCmd": "print(var_dic_list())"
        },
        "r": {
          "delete_cmd_postfix": ") ",
          "delete_cmd_prefix": "rm(",
          "library": "var_list.r",
          "varRefreshCmd": "cat(var_dic_list()) "
        }
      },
      "types_to_exclude": [
        "module",
        "function",
        "builtin_function_or_method",
        "instance",
        "_Feature"
      ],
      "window_display": false
    }
  },
  "nbformat": 4,
  "nbformat_minor": 0
}
