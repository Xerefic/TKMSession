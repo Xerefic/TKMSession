{
  "cells": [
    {
      "cell_type": "markdown",
      "metadata": {
        "id": "FmGZUo3BGcbY"
      },
      "source": [
        "[![Open All Colab](https://colab.research.google.com/assets/colab-badge.svg)](https://colab.research.google.com/github/analytics-club-iitm/DL-Marathon/blob/main/intro/pytorch_intro.ipynb)"
      ]
    },
    {
      "cell_type": "code",
      "execution_count": null,
      "metadata": {
        "id": "slepQAMnGcbc"
      },
      "outputs": [],
      "source": [
        "# importing pytorch\n",
        "import torch"
      ]
    },
    {
      "cell_type": "code",
      "execution_count": null,
      "metadata": {
        "id": "oyQu6maCGcbe",
        "outputId": "c09c5b4a-af23-42c0-d2a4-b391e8bc60ba",
        "colab": {
          "base_uri": "https://localhost:8080/"
        }
      },
      "outputs": [
        {
          "output_type": "stream",
          "name": "stdout",
          "text": [
            "tensor([0., 0., 0., 0., 0.])\n",
            "tensor([1., 1., 1., 1., 1.])\n",
            "tensor([ 0.9381,  1.6634, -0.6413,  0.7991,  0.7768])\n"
          ]
        }
      ],
      "source": [
        "# creating a tensor\n",
        "\n",
        "# zero tensor\n",
        "zeros = torch.zeros(5)\n",
        "print(zeros)\n",
        "# ones\n",
        "ones = torch.ones(5)\n",
        "print(ones)\n",
        "# random normal\n",
        "random = torch.randn(5)\n",
        "print(random)"
      ]
    },
    {
      "cell_type": "code",
      "execution_count": null,
      "metadata": {
        "id": "yF_VX33fGcbf",
        "outputId": "1594f477-f0bb-4dcd-a860-23202dc692e8",
        "colab": {
          "base_uri": "https://localhost:8080/"
        }
      },
      "outputs": [
        {
          "output_type": "stream",
          "name": "stdout",
          "text": [
            "tensor([[ 1.1768,  0.9202, -0.4442],\n",
            "        [ 0.0779, -1.1510, -0.3567],\n",
            "        [ 2.3402,  1.3504, -0.7040]])\n",
            "tensor([[[ 1.3581,  0.5357, -0.0590],\n",
            "         [-0.5621,  0.4129,  0.4873],\n",
            "         [ 0.3903, -1.6834, -0.3084]],\n",
            "\n",
            "        [[-0.7474, -1.4982, -0.9408],\n",
            "         [ 1.9668,  1.2208, -0.3822],\n",
            "         [-1.8366,  1.2850,  1.0999]],\n",
            "\n",
            "        [[-0.0482,  0.6273,  1.5110],\n",
            "         [-1.2228,  1.5113,  0.9438],\n",
            "         [-1.2327, -1.4233, -1.8368]]])\n"
          ]
        }
      ],
      "source": [
        "# multi dimenstional tensors\n",
        "\n",
        "# 2D\n",
        "two_dim = torch.randn((3, 3))\n",
        "print(two_dim)\n",
        "# 3D \n",
        "three_dim = torch.randn((3, 3, 3))\n",
        "print(three_dim)"
      ]
    },
    {
      "cell_type": "code",
      "execution_count": null,
      "metadata": {
        "id": "DVlkcv4iGcbf",
        "outputId": "9e65ffa3-515f-46cb-919b-12a1f3f5c95e",
        "colab": {
          "base_uri": "https://localhost:8080/"
        }
      },
      "outputs": [
        {
          "output_type": "stream",
          "name": "stdout",
          "text": [
            "torch.Size([5])\n",
            "torch.Size([3, 3])\n",
            "torch.Size([3, 3, 3])\n",
            "tensor([1.1768, 0.0779, 2.3402])\n",
            "tensor([ 1.1768,  0.9202, -0.4442])\n"
          ]
        }
      ],
      "source": [
        "# tensor shapes and axes\n",
        "\n",
        "print(zeros.shape)\n",
        "print(two_dim.shape)\n",
        "print(three_dim.shape)\n",
        "\n",
        "# zeroth axis - rows\n",
        "print(two_dim[:, 0])\n",
        "# first axis - columns\n",
        "print(two_dim[0, :])"
      ]
    },
    {
      "cell_type": "code",
      "execution_count": null,
      "metadata": {
        "id": "vEL1GSiOGcbg",
        "outputId": "36fe8f5a-c351-443e-e103-7f640b28787d",
        "colab": {
          "base_uri": "https://localhost:8080/"
        }
      },
      "outputs": [
        {
          "output_type": "stream",
          "name": "stdout",
          "text": [
            "tensor([[-0.1542, -0.8725, -0.4884,  1.3152],\n",
            "        [ 0.3468,  0.5695, -0.9361, -2.3102],\n",
            "        [-0.3713,  0.7886, -0.2247, -0.9611]])\n",
            "tensor([[-0.1542, -0.8725, -0.4884,  1.3152,  0.3468,  0.5695],\n",
            "        [-0.9361, -2.3102, -0.3713,  0.7886, -0.2247, -0.9611]])\n",
            "tensor(1.3152)\n",
            "tensor(-0.2749)\n",
            "tensor([ 0.3468,  0.7886, -0.2247,  1.3152]) tensor([1, 2, 2, 0])\n",
            "tensor([1.3152, 0.5695, 0.7886]) tensor([3, 1, 1])\n"
          ]
        }
      ],
      "source": [
        "# some other operations\n",
        "\n",
        "# reshape\n",
        "a = torch.randn((3, 4))\n",
        "print(a)\n",
        "a_reshaped = a.view(2, 6)\n",
        "print(a_reshaped)\n",
        "\n",
        "# reshape with -1\n",
        "a_reshaped = a.view(4, -1)\n",
        "a_reshaped = a.view(-1)\n",
        "\n",
        "# max, mean\n",
        "val = torch.max(a)\n",
        "print(val)\n",
        "a_mean = torch.mean(a)\n",
        "print(a_mean)\n",
        "\n",
        "# along various axes\n",
        "val, ind = torch.max(a, dim=0)\n",
        "print(val, ind)\n",
        "val, ind = torch.max(a, dim=1)\n",
        "print(val, ind)"
      ]
    },
    {
      "cell_type": "code",
      "execution_count": null,
      "metadata": {
        "id": "E5EeKl5aGcbh",
        "outputId": "1bd74af8-c92d-4f87-db00-5f407ce22e99",
        "colab": {
          "base_uri": "https://localhost:8080/"
        }
      },
      "outputs": [
        {
          "output_type": "stream",
          "name": "stdout",
          "text": [
            "cpu\n",
            "cuda:0\n"
          ]
        }
      ],
      "source": [
        "# cpu-gpu\n",
        "a = torch.randn((3, 4))\n",
        "print(a.device)\n",
        "\n",
        "device = torch.device(\"cuda\")\n",
        "a = a.to(device)\n",
        "print(a.device)\n",
        "\n",
        "# a more generic code\n",
        "# device = torch.device('cuda' if torch.cuda.is_available() else 'cpu')"
      ]
    },
    {
      "cell_type": "code",
      "execution_count": null,
      "metadata": {
        "id": "CO1K9mtiGcbh",
        "outputId": "91c0724b-e79f-465b-b46e-bd44fdbc12f0",
        "colab": {
          "base_uri": "https://localhost:8080/"
        }
      },
      "outputs": [
        {
          "output_type": "stream",
          "name": "stdout",
          "text": [
            "<class 'numpy.ndarray'>\n",
            "<class 'torch.Tensor'>\n"
          ]
        }
      ],
      "source": [
        "# torch to numpy\n",
        "\n",
        "a = a.cpu().numpy()\n",
        "print(type(a))\n",
        "\n",
        "# numpy to torch\n",
        "import numpy as np\n",
        "a = np.ones((3, 3))\n",
        "a = torch.from_numpy(a)\n",
        "print(type(a))"
      ]
    },
    {
      "cell_type": "code",
      "execution_count": null,
      "metadata": {
        "id": "2sgQ5ssUGcbi",
        "outputId": "d758a505-feb9-49ef-95e8-8c1136acca2b",
        "colab": {
          "base_uri": "https://localhost:8080/"
        }
      },
      "outputs": [
        {
          "output_type": "stream",
          "name": "stdout",
          "text": [
            "tensor(2.)\n",
            "tensor(1.)\n",
            "tensor(1.)\n"
          ]
        }
      ],
      "source": [
        "# basic back prop\n",
        "\n",
        "# Create tensors.\n",
        "x = torch.tensor(1., requires_grad=True)\n",
        "w = torch.tensor(2., requires_grad=True)\n",
        "b = torch.tensor(3., requires_grad=True)\n",
        "\n",
        "# Build a computational graph.\n",
        "y = w * x + b    # y = 2 * x + 3\n",
        "\n",
        "# Compute gradients.\n",
        "y.backward()\n",
        "\n",
        "# Print out the gradients.\n",
        "print(x.grad)    # x.grad = 2 (w)\n",
        "print(w.grad)    # w.grad = 1 (x)\n",
        "print(b.grad)    # b.grad = 1 (1)"
      ]
    },
    {
      "cell_type": "code",
      "execution_count": null,
      "metadata": {
        "id": "gfn4i996Gcbj",
        "outputId": "bdaeacbb-08d3-4477-d9a4-03eac778f914",
        "colab": {
          "base_uri": "https://localhost:8080/"
        }
      },
      "outputs": [
        {
          "output_type": "stream",
          "name": "stdout",
          "text": [
            "Linear(in_features=3, out_features=3, bias=True)\n"
          ]
        }
      ],
      "source": [
        "# defining layers\n",
        "\n",
        "import torch.nn as nn\n",
        "\n",
        "layer1 = nn.Linear(3, 3)\n",
        "print(layer1)"
      ]
    },
    {
      "cell_type": "code",
      "execution_count": null,
      "metadata": {
        "id": "-J2vGOwhGcbj",
        "outputId": "d9910cbf-ca98-4c6a-a9b5-426ae7f552f9",
        "colab": {
          "base_uri": "https://localhost:8080/"
        }
      },
      "outputs": [
        {
          "output_type": "stream",
          "name": "stdout",
          "text": [
            "w:  Parameter containing:\n",
            "tensor([[-0.4746, -0.4964,  0.2880],\n",
            "        [-0.0530, -0.1255, -0.0333]], requires_grad=True)\n",
            "b:  Parameter containing:\n",
            "tensor([ 0.3579, -0.3605], requires_grad=True)\n",
            "loss:  0.8274731636047363\n",
            "dL/dw:  tensor([[-0.0189, -0.4478,  0.0739],\n",
            "        [-0.2094, -0.1892, -0.0839]])\n",
            "dL/db:  tensor([0.0665, 0.1398])\n",
            "loss after 1 step optimization:  0.8243180513381958\n"
          ]
        }
      ],
      "source": [
        "# Create tensors of shape (10, 3) and (10, 2).\n",
        "x = torch.randn(10, 3)\n",
        "y = torch.randn(10, 2)\n",
        "\n",
        "# Build a fully connected layer.\n",
        "linear = nn.Linear(3, 2)\n",
        "print ('w: ', linear.weight)\n",
        "print ('b: ', linear.bias)\n",
        "\n",
        "# Build loss function and optimizer.\n",
        "criterion = nn.MSELoss()\n",
        "optimizer = torch.optim.SGD(linear.parameters(), lr=0.01)\n",
        "\n",
        "# Forward pass.\n",
        "pred = linear(x)\n",
        "\n",
        "# Compute loss.\n",
        "loss = criterion(pred, y)\n",
        "print('loss: ', loss.item())\n",
        "\n",
        "# Backward pass.\n",
        "loss.backward()\n",
        "\n",
        "# Print out the gradients.\n",
        "print ('dL/dw: ', linear.weight.grad) \n",
        "print ('dL/db: ', linear.bias.grad)\n",
        "\n",
        "# 1-step gradient descent.\n",
        "optimizer.step()\n",
        "\n",
        "# Print out the loss after 1-step gradient descent.\n",
        "pred = linear(x)\n",
        "loss = criterion(pred, y)\n",
        "print('loss after 1 step optimization: ', loss.item())"
      ]
    },
    {
      "cell_type": "code",
      "execution_count": null,
      "metadata": {
        "id": "W66og0hIGcbk",
        "outputId": "4acf4710-6c26-436f-e24b-d6d72eef33d2",
        "colab": {
          "base_uri": "https://localhost:8080/",
          "height": 369,
          "referenced_widgets": [
            "c706a298b1f448e4aa8564559ac3081f",
            "5c2ba8783b174d24925ee442f5a734b7",
            "adf70572da2e4473b7c51c9442457d3a",
            "41be51a5aaa04c81aa8d96f119d0026f",
            "679b3dad4f384ba2a7f2abc43b6bfa6d",
            "7462c3c82c704209b7a24e4c3197e64b",
            "713fda2df91b4bee8484a92dc09cbabf",
            "59b980596f9446ad8011e4553c1dd3b7",
            "1fb14e4e652449d6aefbd2551b369878",
            "2929b99681b741c794fa262dc5a6c540",
            "02854da7705b4855a117543890c65b16"
          ]
        }
      },
      "outputs": [
        {
          "output_type": "stream",
          "name": "stdout",
          "text": [
            "Downloading https://www.cs.toronto.edu/~kriz/cifar-10-python.tar.gz to ./data/cifar-10-python.tar.gz\n"
          ]
        },
        {
          "output_type": "display_data",
          "data": {
            "text/plain": [
              "  0%|          | 0/170498071 [00:00<?, ?it/s]"
            ],
            "application/vnd.jupyter.widget-view+json": {
              "version_major": 2,
              "version_minor": 0,
              "model_id": "c706a298b1f448e4aa8564559ac3081f"
            }
          },
          "metadata": {}
        },
        {
          "output_type": "stream",
          "name": "stdout",
          "text": [
            "Extracting ./data/cifar-10-python.tar.gz to ./data/\n"
          ]
        },
        {
          "output_type": "display_data",
          "data": {
            "text/plain": [
              "<Figure size 432x288 with 1 Axes>"
            ],
            "image/png": "[encoded data removed]"
          },
          "metadata": {
            "needs_background": "light"
          }
        },
        {
          "output_type": "stream",
          "name": "stdout",
          "text": [
            "torch.Size([3, 32, 32])\n",
            "0\n"
          ]
        }
      ],
      "source": [
        "from torchvision import datasets, transforms\n",
        "\n",
        "# use existing datasets\n",
        "# Download and construct CIFAR-10 dataset.\n",
        "val_dataset = datasets.CIFAR10(\n",
        "    root='./data/', \n",
        "    train=False, \n",
        "    transform=transforms.ToTensor(), \n",
        "    download=True\n",
        ")\n",
        "\n",
        "# Fetch one data pair (read data from disk).\n",
        "image, label = val_dataset[10]\n",
        "import matplotlib.pyplot as plt\n",
        "plt.imshow(image.permute(1, 2, 0).numpy())\n",
        "plt.show()\n",
        "print(image.shape)\n",
        "print(label)"
      ]
    },
    {
      "cell_type": "code",
      "execution_count": null,
      "metadata": {
        "id": "-cayR56NGcbl",
        "outputId": "e8008ba9-9122-4d82-fa17-374ad61c52e9",
        "colab": {
          "base_uri": "https://localhost:8080/"
        }
      },
      "outputs": [
        {
          "output_type": "stream",
          "name": "stdout",
          "text": [
            "torch.Size([64, 3, 32, 32]) torch.Size([64])\n",
            "torch.Size([64, 3, 32, 32]) torch.Size([64])\n"
          ]
        }
      ],
      "source": [
        "from torch.utils.data import DataLoader\n",
        "# Data loader (this provides queues and threads in a very simple way).\n",
        "loader = torch.utils.data.DataLoader(\n",
        "    dataset=val_dataset,\n",
        "    batch_size=64, \n",
        "    shuffle=True\n",
        ")\n",
        "\n",
        "# how data is loaded in the backend\n",
        "# When iteration starts, queue and thread start to load data from files.\n",
        "data_iter = iter(loader)\n",
        "# Mini-batch images and labels.\n",
        "images, labels = data_iter.next()\n",
        "print(images.shape, labels.shape)\n",
        "\n",
        "# Usage of the data loader is as below.\n",
        "for images, labels in loader:\n",
        "    # Training code should be written here.\n",
        "    print(images.shape, labels.shape)\n",
        "    break"
      ]
    },
    {
      "cell_type": "code",
      "execution_count": null,
      "metadata": {
        "scrolled": true,
        "id": "tNsRWdgdGcbl",
        "outputId": "50dcf020-0059-492d-bcb1-77b089f39ea3",
        "colab": {
          "base_uri": "https://localhost:8080/",
          "height": 371
        }
      },
      "outputs": [
        {
          "output_type": "error",
          "ename": "ValueError",
          "evalue": "ignored",
          "traceback": [
            "\u001b[0;31m---------------------------------------------------------------------------\u001b[0m",
            "\u001b[0;31mValueError\u001b[0m                                Traceback (most recent call last)",
            "\u001b[0;32m<ipython-input-13-d99b0af06955>\u001b[0m in \u001b[0;36m<module>\u001b[0;34m()\u001b[0m\n\u001b[1;32m     20\u001b[0m     \u001b[0mdataset\u001b[0m\u001b[0;34m=\u001b[0m\u001b[0mcustom_dataset\u001b[0m\u001b[0;34m,\u001b[0m\u001b[0;34m\u001b[0m\u001b[0;34m\u001b[0m\u001b[0m\n\u001b[1;32m     21\u001b[0m     \u001b[0mbatch_size\u001b[0m\u001b[0;34m=\u001b[0m\u001b[0;36m64\u001b[0m\u001b[0;34m,\u001b[0m\u001b[0;34m\u001b[0m\u001b[0;34m\u001b[0m\u001b[0m\n\u001b[0;32m---> 22\u001b[0;31m     \u001b[0mshuffle\u001b[0m\u001b[0;34m=\u001b[0m\u001b[0;32mTrue\u001b[0m\u001b[0;34m\u001b[0m\u001b[0;34m\u001b[0m\u001b[0m\n\u001b[0m\u001b[1;32m     23\u001b[0m )\n",
            "\u001b[0;32m/usr/local/lib/python3.7/dist-packages/torch/utils/data/dataloader.py\u001b[0m in \u001b[0;36m__init__\u001b[0;34m(self, dataset, batch_size, shuffle, sampler, batch_sampler, num_workers, collate_fn, pin_memory, drop_last, timeout, worker_init_fn, multiprocessing_context, generator, prefetch_factor, persistent_workers)\u001b[0m\n\u001b[1;32m    275\u001b[0m             \u001b[0;32melse\u001b[0m\u001b[0;34m:\u001b[0m  \u001b[0;31m# map-style\u001b[0m\u001b[0;34m\u001b[0m\u001b[0;34m\u001b[0m\u001b[0m\n\u001b[1;32m    276\u001b[0m                 \u001b[0;32mif\u001b[0m \u001b[0mshuffle\u001b[0m\u001b[0;34m:\u001b[0m\u001b[0;34m\u001b[0m\u001b[0;34m\u001b[0m\u001b[0m\n\u001b[0;32m--> 277\u001b[0;31m                     \u001b[0msampler\u001b[0m \u001b[0;34m=\u001b[0m \u001b[0mRandomSampler\u001b[0m\u001b[0;34m(\u001b[0m\u001b[0mdataset\u001b[0m\u001b[0;34m,\u001b[0m \u001b[0mgenerator\u001b[0m\u001b[0;34m=\u001b[0m\u001b[0mgenerator\u001b[0m\u001b[0;34m)\u001b[0m  \u001b[0;31m# type: ignore[arg-type]\u001b[0m\u001b[0;34m\u001b[0m\u001b[0;34m\u001b[0m\u001b[0m\n\u001b[0m\u001b[1;32m    278\u001b[0m                 \u001b[0;32melse\u001b[0m\u001b[0;34m:\u001b[0m\u001b[0;34m\u001b[0m\u001b[0;34m\u001b[0m\u001b[0m\n\u001b[1;32m    279\u001b[0m                     \u001b[0msampler\u001b[0m \u001b[0;34m=\u001b[0m \u001b[0mSequentialSampler\u001b[0m\u001b[0;34m(\u001b[0m\u001b[0mdataset\u001b[0m\u001b[0;34m)\u001b[0m  \u001b[0;31m# type: ignore[arg-type]\u001b[0m\u001b[0;34m\u001b[0m\u001b[0;34m\u001b[0m\u001b[0m\n",
            "\u001b[0;32m/usr/local/lib/python3.7/dist-packages/torch/utils/data/sampler.py\u001b[0m in \u001b[0;36m__init__\u001b[0;34m(self, data_source, replacement, num_samples, generator)\u001b[0m\n\u001b[1;32m     96\u001b[0m         \u001b[0;32mif\u001b[0m \u001b[0;32mnot\u001b[0m \u001b[0misinstance\u001b[0m\u001b[0;34m(\u001b[0m\u001b[0mself\u001b[0m\u001b[0;34m.\u001b[0m\u001b[0mnum_samples\u001b[0m\u001b[0;34m,\u001b[0m \u001b[0mint\u001b[0m\u001b[0;34m)\u001b[0m \u001b[0;32mor\u001b[0m \u001b[0mself\u001b[0m\u001b[0;34m.\u001b[0m\u001b[0mnum_samples\u001b[0m \u001b[0;34m<=\u001b[0m \u001b[0;36m0\u001b[0m\u001b[0;34m:\u001b[0m\u001b[0;34m\u001b[0m\u001b[0;34m\u001b[0m\u001b[0m\n\u001b[1;32m     97\u001b[0m             raise ValueError(\"num_samples should be a positive integer \"\n\u001b[0;32m---> 98\u001b[0;31m                              \"value, but got num_samples={}\".format(self.num_samples))\n\u001b[0m\u001b[1;32m     99\u001b[0m \u001b[0;34m\u001b[0m\u001b[0m\n\u001b[1;32m    100\u001b[0m     \u001b[0;34m@\u001b[0m\u001b[0mproperty\u001b[0m\u001b[0;34m\u001b[0m\u001b[0;34m\u001b[0m\u001b[0m\n",
            "\u001b[0;31mValueError\u001b[0m: num_samples should be a positive integer value, but got num_samples=0"
          ]
        }
      ],
      "source": [
        "from torch.utils.data import Dataset\n",
        "\n",
        "# Defining a custom dataset\n",
        "class CustomDataset(Dataset):\n",
        "    def __init__(self):\n",
        "        # 1. Initialize file paths or a list of file names. \n",
        "        pass\n",
        "    def __getitem__(self, index):\n",
        "        # 1. Read one data from file (e.g. using numpy.fromfile, PIL.Image.open).\n",
        "        # 2. Preprocess the data (e.g. torchvision.Transform).\n",
        "        # 3. Return a data pair (e.g. image and label).\n",
        "        return None\n",
        "    def __len__(self):\n",
        "        # return length of the dataset\n",
        "        return 0 # here 0 because there are no elements\n",
        "\n",
        "# You can then use the prebuilt data loader. \n",
        "custom_dataset = CustomDataset()\n",
        "custom_loader = torch.utils.data.DataLoader(\n",
        "    dataset=custom_dataset,\n",
        "    batch_size=64, \n",
        "    shuffle=True\n",
        ")"
      ]
    },
    {
      "cell_type": "code",
      "execution_count": null,
      "metadata": {
        "id": "yei19j83Gcbm",
        "outputId": "60b5c751-02f6-49bf-a7f2-06b4ee6198f0",
        "colab": {
          "base_uri": "https://localhost:8080/"
        }
      },
      "outputs": [
        {
          "output_type": "stream",
          "name": "stdout",
          "text": [
            "tensor([[ 0.8705, -0.6628, -0.8751],\n",
            "        [ 0.2087, -0.4947, -0.0734]], device='cuda:0',\n",
            "       grad_fn=<AddmmBackward0>)\n"
          ]
        }
      ],
      "source": [
        "# defining models\n",
        "\n",
        "class CustomModel(nn.Module):\n",
        "    def __init__(self):\n",
        "        super(CustomModel, self).__init__()\n",
        "        # 1. initialize all the model layers (eg: nn.Linear(), nn.Conv2d(),etc)\n",
        "        self.layer1 = nn.Linear(3, 3)\n",
        "\n",
        "    def forward(self, inp):\n",
        "        # 1. pass through the required layers and perform the necessary operations\n",
        "        # eg: out = self.layer1(x)\n",
        "        # return final output\n",
        "        out = self.layer1(inp)\n",
        "        return out\n",
        "\n",
        "model = CustomModel().to(device)\n",
        "inp = torch.randn((2, 3)).to(device)\n",
        "output = model(inp)\n",
        "print(output)"
      ]
    },
    {
      "cell_type": "code",
      "execution_count": null,
      "metadata": {
        "id": "t0ob38_mGcbm",
        "outputId": "a8c01206-2163-4a9b-ca12-f2666349b90a",
        "colab": {
          "base_uri": "https://localhost:8080/"
        }
      },
      "outputs": [
        {
          "output_type": "execute_result",
          "data": {
            "text/plain": [
              "<All keys matched successfully>"
            ]
          },
          "metadata": {},
          "execution_count": 15
        }
      ],
      "source": [
        "# Save and load the entire model.\n",
        "torch.save(model.state_dict(), 'model.ckpt')\n",
        "model.load_state_dict(torch.load('model.ckpt'))"
      ]
    },
    {
      "cell_type": "markdown",
      "metadata": {
        "id": "Zn53bCDEGcbm"
      },
      "source": [
        "## Linear regression (EXTREME OVERKILL CODE)"
      ]
    },
    {
      "cell_type": "code",
      "execution_count": null,
      "metadata": {
        "scrolled": true,
        "id": "2zd1UZjFGcbm",
        "outputId": "18a27bfb-30ab-4f1d-a44f-c7eff6a493e6",
        "colab": {
          "base_uri": "https://localhost:8080/"
        }
      },
      "outputs": [
        {
          "output_type": "stream",
          "name": "stderr",
          "text": [
            "/usr/local/lib/python3.7/dist-packages/torch/utils/data/dataloader.py:490: UserWarning: This DataLoader will create 4 worker processes in total. Our suggested max number of worker in current system is 2, which is smaller than what this DataLoader is going to create. Please be aware that excessive worker creation might get DataLoader running slow or even freeze, lower the worker number to avoid potential slowness/freeze if necessary.\n",
            "  cpuset_checked))\n"
          ]
        }
      ],
      "source": [
        "# SUPER UNWANTEDLY LARGE LINEAR REGRESSION CODE (HOWEVER WILL GIVE U AN OVERALL IDEA SO YEAH)\n",
        "\n",
        "import torch\n",
        "import torch.nn as nn\n",
        "from torch.utils.data import Dataset, DataLoader\n",
        "import torch.optim as optim\n",
        "import numpy as np\n",
        "import matplotlib.pyplot as plt\n",
        "\n",
        "\n",
        "class XYSet(Dataset):\n",
        "    def __init__(self):\n",
        "        # toy dataset\n",
        "        data = np.genfromtxt(\"https://raw.githubusercontent.com/MukundVarmaT/PythonMLworkshop/master/data.csv\", delimiter=\",\")\n",
        "        self.x, self.y = data[:,[0]], data[:, [1]]\n",
        "    def __getitem__(self, indx):\n",
        "        return self.x[indx], self.y[indx]\n",
        "    def __len__(self):\n",
        "        return len(self.x)\n",
        "\n",
        "\n",
        "class LinReg(nn.Module):\n",
        "    def __init__(self):\n",
        "        super(LinReg, self).__init__()\n",
        "        self.layer = nn.Linear(1, 1)\n",
        "    def forward(self, x):\n",
        "        return self.layer(x)\n",
        "\n",
        "dset = XYSet()\n",
        "loader = DataLoader(dset, batch_size=8)\n",
        "\n",
        "device = torch.device('cuda' if torch.cuda.is_available() else 'cpu')\n",
        "model = LinReg().to(device)\n",
        "optimizer = optim.SGD(model.parameters(), lr=0.000001)\n",
        "criterion = nn.MSELoss()"
      ]
    },
    {
      "cell_type": "code",
      "source": [
        "def train(epochs):\n",
        "    params = []\n",
        "    for epoch in range(epochs):\n",
        "        loss_cntr = []\n",
        "        for x, y in loader:\n",
        "            x, y = x.to(device).float(), y.to(device).float()\n",
        "            y_pred = model(x)\n",
        "            loss = criterion(y_pred, y)\n",
        "            \n",
        "            optimizer.zero_grad()\n",
        "            loss.backward()\n",
        "            optimizer.step()\n",
        "            loss_cntr.append(loss.item())\n",
        "        params.append((model.layer.weight.item(), model.layer.bias.item()))\n",
        "        if epoch % 10 == 0:\n",
        "            print ('Epoch [{}/{}], Loss: {:.4f}'.format(epoch+1, epochs, np.mean(loss_cntr)))\n",
        "    return params"
      ],
      "metadata": {
        "id": "8g3Mdf_1HGwL"
      },
      "execution_count": null,
      "outputs": []
    },
    {
      "cell_type": "code",
      "execution_count": null,
      "metadata": {
        "id": "9WTjNChYGcbn",
        "outputId": "3b0eb333-96a7-449c-8267-afe7c4565bf3",
        "colab": {
          "base_uri": "https://localhost:8080/"
        }
      },
      "outputs": [
        {
          "output_type": "stream",
          "name": "stderr",
          "text": [
            "/usr/local/lib/python3.7/dist-packages/torch/utils/data/dataloader.py:490: UserWarning: This DataLoader will create 4 worker processes in total. Our suggested max number of worker in current system is 2, which is smaller than what this DataLoader is going to create. Please be aware that excessive worker creation might get DataLoader running slow or even freeze, lower the worker number to avoid potential slowness/freeze if necessary.\n",
            "  cpuset_checked))\n"
          ]
        },
        {
          "output_type": "stream",
          "name": "stdout",
          "text": [
            "Epoch [1/100], Loss: 3155.4767\n",
            "Epoch [11/100], Loss: 949.6550\n",
            "Epoch [21/100], Loss: 342.2666\n",
            "Epoch [31/100], Loss: 175.1840\n",
            "Epoch [41/100], Loss: 129.3094\n",
            "Epoch [51/100], Loss: 116.7594\n",
            "Epoch [61/100], Loss: 113.3503\n",
            "Epoch [71/100], Loss: 112.4370\n",
            "Epoch [81/100], Loss: 112.1991\n",
            "Epoch [91/100], Loss: 112.1408\n"
          ]
        }
      ],
      "source": [
        "# Train the model\n",
        "params = train(100)"
      ]
    },
    {
      "cell_type": "code",
      "source": [
        "import numpy as np\n",
        "import matplotlib.pyplot as plt\n",
        "import matplotlib.animation as animation\n",
        "\n",
        "fig, ax = plt.subplots()\n",
        "plt.plot(dset.x, dset.y, 'ro', label='Original data')\n",
        "fit_line, = plt.plot(dset.x, params[0][0]*dset.x + params[0][1], label='Fitted line')\n",
        "\n",
        "def animate(i):\n",
        "    fit_line.set_data(dset.x, params[i][0]*dset.x + params[i][1])\n",
        "    return fit_line,\n",
        "\n",
        "line_anim = animation.FuncAnimation(fig, animate, frames=np.arange(0, 100, 1), interval=10, blit=True, repeat=True)\n",
        "line_anim.save('nn.mp4', fps=10)"
      ],
      "metadata": {
        "colab": {
          "base_uri": "https://localhost:8080/",
          "height": 265
        },
        "id": "cBqNUe3LK3sK",
        "outputId": "46e8f1c9-db8a-4d14-8608-2ca54d531f29"
      },
      "execution_count": null,
      "outputs": [
        {
          "output_type": "display_data",
          "data": {
            "text/plain": [
              "<Figure size 432x288 with 1 Axes>"
            ],
            "image/png": "[encoded data removed]"
          },
          "metadata": {
            "needs_background": "light"
          }
        }
      ]
    },
    {
      "cell_type": "code",
      "source": [
        "from IPython.display import HTML\n",
        "from base64 import b64encode\n",
        "\n",
        "mp4 = open('nn.mp4','rb').read()\n",
        "data_url = \"data:video/mp4;base64,\" + b64encode(mp4).decode()\n",
        "HTML(\"\"\"\n",
        "<video controls>\n",
        "    <source src=\"%s\" type=\"video/mp4\">\n",
        "</video>\n",
        "\"\"\" % data_url)"
      ],
      "metadata": {
        "colab": {
          "base_uri": "https://localhost:8080/",
          "height": 309
        },
        "id": "KbQWxcN4NBOo",
        "outputId": "406d9f30-f7fd-4e80-d281-be0d3f5ae1af"
      },
      "execution_count": null,
      "outputs": [
        {
          "output_type": "execute_result",
          "data": {
            "text/plain": [
              "<IPython.core.display.HTML object>"
            ],
            "text/html": [
              "\n",
              "<video controls>\n",
              "    <source src=\"data:video/mp4;base64,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\" type=\"video/mp4\">\n",
              "</video>\n"
            ]
          },
          "metadata": {},
          "execution_count": 25
        }
      ]
    },
    {
      "cell_type": "code",
      "source": [
        ""
      ],
      "metadata": {
        "id": "6OLs821ZNf-9"
      },
      "execution_count": null,
      "outputs": []
    }
  ],
  "metadata": {
    "kernelspec": {
      "display_name": "Python 3.8.13 ('torch-nightly')",
      "language": "python",
      "name": "python3"
    },
    "language_info": {
      "codemirror_mode": {
        "name": "ipython",
        "version": 3
      },
      "file_extension": ".py",
      "mimetype": "text/x-python",
      "name": "python",
      "nbconvert_exporter": "python",
      "pygments_lexer": "ipython3",
      "version": "3.8.13"
    },
    "vscode": {
      "interpreter": {
        "hash": "96f3b34ada46ee5e21a62afe05346301afc78e14b46989186e799e4b1d5dd107"
      }
    },
    "colab": {
      "name": "(2) Linear_Network.ipynb",
      "provenance": [],
      "collapsed_sections": []
    },
    "accelerator": "GPU",
    "gpuClass": "standard",
    "widgets": {
      "application/vnd.jupyter.widget-state+json": {
        "c706a298b1f448e4aa8564559ac3081f": {
          "model_module": "@jupyter-widgets/controls",
          "model_name": "HBoxModel",
          "model_module_version": "1.5.0",
          "state": {
            "_dom_classes": [],
            "_model_module": "@jupyter-widgets/controls",
            "_model_module_version": "1.5.0",
            "_model_name": "HBoxModel",
            "_view_count": null,
            "_view_module": "@jupyter-widgets/controls",
            "_view_module_version": "1.5.0",
            "_view_name": "HBoxView",
            "box_style": "",
            "children": [
              "IPY_MODEL_5c2ba8783b174d24925ee442f5a734b7",
              "IPY_MODEL_adf70572da2e4473b7c51c9442457d3a",
              "IPY_MODEL_41be51a5aaa04c81aa8d96f119d0026f"
            ],
            "layout": "IPY_MODEL_679b3dad4f384ba2a7f2abc43b6bfa6d"
          }
        },
        "5c2ba8783b174d24925ee442f5a734b7": {
          "model_module": "@jupyter-widgets/controls",
          "model_name": "HTMLModel",
          "model_module_version": "1.5.0",
          "state": {
            "_dom_classes": [],
            "_model_module": "@jupyter-widgets/controls",
            "_model_module_version": "1.5.0",
            "_model_name": "HTMLModel",
            "_view_count": null,
            "_view_module": "@jupyter-widgets/controls",
            "_view_module_version": "1.5.0",
            "_view_name": "HTMLView",
            "description": "",
            "description_tooltip": null,
            "layout": "IPY_MODEL_7462c3c82c704209b7a24e4c3197e64b",
            "placeholder": "​",
            "style": "IPY_MODEL_713fda2df91b4bee8484a92dc09cbabf",
            "value": ""
          }
        },
        "adf70572da2e4473b7c51c9442457d3a": {
          "model_module": "@jupyter-widgets/controls",
          "model_name": "FloatProgressModel",
          "model_module_version": "1.5.0",
          "state": {
            "_dom_classes": [],
            "_model_module": "@jupyter-widgets/controls",
            "_model_module_version": "1.5.0",
            "_model_name": "FloatProgressModel",
            "_view_count": null,
            "_view_module": "@jupyter-widgets/controls",
            "_view_module_version": "1.5.0",
            "_view_name": "ProgressView",
            "bar_style": "success",
            "description": "",
            "description_tooltip": null,
            "layout": "IPY_MODEL_59b980596f9446ad8011e4553c1dd3b7",
            "max": 170498071,
            "min": 0,
            "orientation": "horizontal",
            "style": "IPY_MODEL_1fb14e4e652449d6aefbd2551b369878",
            "value": 170498071
          }
        },
        "41be51a5aaa04c81aa8d96f119d0026f": {
          "model_module": "@jupyter-widgets/controls",
          "model_name": "HTMLModel",
          "model_module_version": "1.5.0",
          "state": {
            "_dom_classes": [],
            "_model_module": "@jupyter-widgets/controls",
            "_model_module_version": "1.5.0",
            "_model_name": "HTMLModel",
            "_view_count": null,
            "_view_module": "@jupyter-widgets/controls",
            "_view_module_version": "1.5.0",
            "_view_name": "HTMLView",
            "description": "",
            "description_tooltip": null,
            "layout": "IPY_MODEL_2929b99681b741c794fa262dc5a6c540",
            "placeholder": "​",
            "style": "IPY_MODEL_02854da7705b4855a117543890c65b16",
            "value": " 170499072/? [00:11&lt;00:00, 18134282.08it/s]"
          }
        },
        "679b3dad4f384ba2a7f2abc43b6bfa6d": {
          "model_module": "@jupyter-widgets/base",
          "model_name": "LayoutModel",
          "model_module_version": "1.2.0",
          "state": {
            "_model_module": "@jupyter-widgets/base",
            "_model_module_version": "1.2.0",
            "_model_name": "LayoutModel",
            "_view_count": null,
            "_view_module": "@jupyter-widgets/base",
            "_view_module_version": "1.2.0",
            "_view_name": "LayoutView",
            "align_content": null,
            "align_items": null,
            "align_self": null,
            "border": null,
            "bottom": null,
            "display": null,
            "flex": null,
            "flex_flow": null,
            "grid_area": null,
            "grid_auto_columns": null,
            "grid_auto_flow": null,
            "grid_auto_rows": null,
            "grid_column": null,
            "grid_gap": null,
            "grid_row": null,
            "grid_template_areas": null,
            "grid_template_columns": null,
            "grid_template_rows": null,
            "height": null,
            "justify_content": null,
            "justify_items": null,
            "left": null,
            "margin": null,
            "max_height": null,
            "max_width": null,
            "min_height": null,
            "min_width": null,
            "object_fit": null,
            "object_position": null,
            "order": null,
            "overflow": null,
            "overflow_x": null,
            "overflow_y": null,
            "padding": null,
            "right": null,
            "top": null,
            "visibility": null,
            "width": null
          }
        },
        "7462c3c82c704209b7a24e4c3197e64b": {
          "model_module": "@jupyter-widgets/base",
          "model_name": "LayoutModel",
          "model_module_version": "1.2.0",
          "state": {
            "_model_module": "@jupyter-widgets/base",
            "_model_module_version": "1.2.0",
            "_model_name": "LayoutModel",
            "_view_count": null,
            "_view_module": "@jupyter-widgets/base",
            "_view_module_version": "1.2.0",
            "_view_name": "LayoutView",
            "align_content": null,
            "align_items": null,
            "align_self": null,
            "border": null,
            "bottom": null,
            "display": null,
            "flex": null,
            "flex_flow": null,
            "grid_area": null,
            "grid_auto_columns": null,
            "grid_auto_flow": null,
            "grid_auto_rows": null,
            "grid_column": null,
            "grid_gap": null,
            "grid_row": null,
            "grid_template_areas": null,
            "grid_template_columns": null,
            "grid_template_rows": null,
            "height": null,
            "justify_content": null,
            "justify_items": null,
            "left": null,
            "margin": null,
            "max_height": null,
            "max_width": null,
            "min_height": null,
            "min_width": null,
            "object_fit": null,
            "object_position": null,
            "order": null,
            "overflow": null,
            "overflow_x": null,
            "overflow_y": null,
            "padding": null,
            "right": null,
            "top": null,
            "visibility": null,
            "width": null
          }
        },
        "713fda2df91b4bee8484a92dc09cbabf": {
          "model_module": "@jupyter-widgets/controls",
          "model_name": "DescriptionStyleModel",
          "model_module_version": "1.5.0",
          "state": {
            "_model_module": "@jupyter-widgets/controls",
            "_model_module_version": "1.5.0",
            "_model_name": "DescriptionStyleModel",
            "_view_count": null,
            "_view_module": "@jupyter-widgets/base",
            "_view_module_version": "1.2.0",
            "_view_name": "StyleView",
            "description_width": ""
          }
        },
        "59b980596f9446ad8011e4553c1dd3b7": {
          "model_module": "@jupyter-widgets/base",
          "model_name": "LayoutModel",
          "model_module_version": "1.2.0",
          "state": {
            "_model_module": "@jupyter-widgets/base",
            "_model_module_version": "1.2.0",
            "_model_name": "LayoutModel",
            "_view_count": null,
            "_view_module": "@jupyter-widgets/base",
            "_view_module_version": "1.2.0",
            "_view_name": "LayoutView",
            "align_content": null,
            "align_items": null,
            "align_self": null,
            "border": null,
            "bottom": null,
            "display": null,
            "flex": null,
            "flex_flow": null,
            "grid_area": null,
            "grid_auto_columns": null,
            "grid_auto_flow": null,
            "grid_auto_rows": null,
            "grid_column": null,
            "grid_gap": null,
            "grid_row": null,
            "grid_template_areas": null,
            "grid_template_columns": null,
            "grid_template_rows": null,
            "height": null,
            "justify_content": null,
            "justify_items": null,
            "left": null,
            "margin": null,
            "max_height": null,
            "max_width": null,
            "min_height": null,
            "min_width": null,
            "object_fit": null,
            "object_position": null,
            "order": null,
            "overflow": null,
            "overflow_x": null,
            "overflow_y": null,
            "padding": null,
            "right": null,
            "top": null,
            "visibility": null,
            "width": null
          }
        },
        "1fb14e4e652449d6aefbd2551b369878": {
          "model_module": "@jupyter-widgets/controls",
          "model_name": "ProgressStyleModel",
          "model_module_version": "1.5.0",
          "state": {
            "_model_module": "@jupyter-widgets/controls",
            "_model_module_version": "1.5.0",
            "_model_name": "ProgressStyleModel",
            "_view_count": null,
            "_view_module": "@jupyter-widgets/base",
            "_view_module_version": "1.2.0",
            "_view_name": "StyleView",
            "bar_color": null,
            "description_width": ""
          }
        },
        "2929b99681b741c794fa262dc5a6c540": {
          "model_module": "@jupyter-widgets/base",
          "model_name": "LayoutModel",
          "model_module_version": "1.2.0",
          "state": {
            "_model_module": "@jupyter-widgets/base",
            "_model_module_version": "1.2.0",
            "_model_name": "LayoutModel",
            "_view_count": null,
            "_view_module": "@jupyter-widgets/base",
            "_view_module_version": "1.2.0",
            "_view_name": "LayoutView",
            "align_content": null,
            "align_items": null,
            "align_self": null,
            "border": null,
            "bottom": null,
            "display": null,
            "flex": null,
            "flex_flow": null,
            "grid_area": null,
            "grid_auto_columns": null,
            "grid_auto_flow": null,
            "grid_auto_rows": null,
            "grid_column": null,
            "grid_gap": null,
            "grid_row": null,
            "grid_template_areas": null,
            "grid_template_columns": null,
            "grid_template_rows": null,
            "height": null,
            "justify_content": null,
            "justify_items": null,
            "left": null,
            "margin": null,
            "max_height": null,
            "max_width": null,
            "min_height": null,
            "min_width": null,
            "object_fit": null,
            "object_position": null,
            "order": null,
            "overflow": null,
            "overflow_x": null,
            "overflow_y": null,
            "padding": null,
            "right": null,
            "top": null,
            "visibility": null,
            "width": null
          }
        },
        "02854da7705b4855a117543890c65b16": {
          "model_module": "@jupyter-widgets/controls",
          "model_name": "DescriptionStyleModel",
          "model_module_version": "1.5.0",
          "state": {
            "_model_module": "@jupyter-widgets/controls",
            "_model_module_version": "1.5.0",
            "_model_name": "DescriptionStyleModel",
            "_view_count": null,
            "_view_module": "@jupyter-widgets/base",
            "_view_module_version": "1.2.0",
            "_view_name": "StyleView",
            "description_width": ""
          }
        }
      }
    }
  },
  "nbformat": 4,
  "nbformat_minor": 0
}